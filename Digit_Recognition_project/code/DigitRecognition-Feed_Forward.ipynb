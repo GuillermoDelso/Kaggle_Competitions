{
 "cells": [
  {
   "cell_type": "markdown",
   "metadata": {},
   "source": [
    "# Digit Recognition with a Feed Forward Neural Network\n",
    "\n",
    "---"
   ]
  },
  {
   "cell_type": "markdown",
   "metadata": {},
   "source": [
    "### Import the necessary packages"
   ]
  },
  {
   "cell_type": "code",
   "execution_count": 168,
   "metadata": {},
   "outputs": [],
   "source": [
    "import numpy as np\n",
    "import matplotlib.pyplot as plt\n",
    "import pandas as pd\n",
    "\n",
    "# For reproducibility\n",
    "np.random.seed(42)\n",
    "\n",
    "from tensorflow.python.keras.models import Sequential\n",
    "from tensorflow.python.keras.layers import Dense, Dropout, Flatten\n",
    "from tensorflow.python.keras import utils\n",
    "\n",
    "from sklearn.model_selection import train_test_split\n",
    "from sklearn.preprocessing import StandardScaler\n",
    "\n",
    "\n",
    "\n",
    "import keras\n",
    "from keras.utils import to_categorical\n",
    "\n",
    "\n",
    "%matplotlib inline"
   ]
  },
  {
   "cell_type": "code",
   "execution_count": 169,
   "metadata": {},
   "outputs": [
    {
     "data": {
      "text/html": [
       "<div>\n",
       "<style scoped>\n",
       "    .dataframe tbody tr th:only-of-type {\n",
       "        vertical-align: middle;\n",
       "    }\n",
       "\n",
       "    .dataframe tbody tr th {\n",
       "        vertical-align: top;\n",
       "    }\n",
       "\n",
       "    .dataframe thead th {\n",
       "        text-align: right;\n",
       "    }\n",
       "</style>\n",
       "<table border=\"1\" class=\"dataframe\">\n",
       "  <thead>\n",
       "    <tr style=\"text-align: right;\">\n",
       "      <th></th>\n",
       "      <th>label</th>\n",
       "      <th>pixel0</th>\n",
       "      <th>pixel1</th>\n",
       "      <th>pixel2</th>\n",
       "      <th>pixel3</th>\n",
       "      <th>pixel4</th>\n",
       "      <th>pixel5</th>\n",
       "      <th>pixel6</th>\n",
       "      <th>pixel7</th>\n",
       "      <th>pixel8</th>\n",
       "      <th>...</th>\n",
       "      <th>pixel774</th>\n",
       "      <th>pixel775</th>\n",
       "      <th>pixel776</th>\n",
       "      <th>pixel777</th>\n",
       "      <th>pixel778</th>\n",
       "      <th>pixel779</th>\n",
       "      <th>pixel780</th>\n",
       "      <th>pixel781</th>\n",
       "      <th>pixel782</th>\n",
       "      <th>pixel783</th>\n",
       "    </tr>\n",
       "  </thead>\n",
       "  <tbody>\n",
       "    <tr>\n",
       "      <th>0</th>\n",
       "      <td>1</td>\n",
       "      <td>0</td>\n",
       "      <td>0</td>\n",
       "      <td>0</td>\n",
       "      <td>0</td>\n",
       "      <td>0</td>\n",
       "      <td>0</td>\n",
       "      <td>0</td>\n",
       "      <td>0</td>\n",
       "      <td>0</td>\n",
       "      <td>...</td>\n",
       "      <td>0</td>\n",
       "      <td>0</td>\n",
       "      <td>0</td>\n",
       "      <td>0</td>\n",
       "      <td>0</td>\n",
       "      <td>0</td>\n",
       "      <td>0</td>\n",
       "      <td>0</td>\n",
       "      <td>0</td>\n",
       "      <td>0</td>\n",
       "    </tr>\n",
       "    <tr>\n",
       "      <th>1</th>\n",
       "      <td>0</td>\n",
       "      <td>0</td>\n",
       "      <td>0</td>\n",
       "      <td>0</td>\n",
       "      <td>0</td>\n",
       "      <td>0</td>\n",
       "      <td>0</td>\n",
       "      <td>0</td>\n",
       "      <td>0</td>\n",
       "      <td>0</td>\n",
       "      <td>...</td>\n",
       "      <td>0</td>\n",
       "      <td>0</td>\n",
       "      <td>0</td>\n",
       "      <td>0</td>\n",
       "      <td>0</td>\n",
       "      <td>0</td>\n",
       "      <td>0</td>\n",
       "      <td>0</td>\n",
       "      <td>0</td>\n",
       "      <td>0</td>\n",
       "    </tr>\n",
       "    <tr>\n",
       "      <th>2</th>\n",
       "      <td>1</td>\n",
       "      <td>0</td>\n",
       "      <td>0</td>\n",
       "      <td>0</td>\n",
       "      <td>0</td>\n",
       "      <td>0</td>\n",
       "      <td>0</td>\n",
       "      <td>0</td>\n",
       "      <td>0</td>\n",
       "      <td>0</td>\n",
       "      <td>...</td>\n",
       "      <td>0</td>\n",
       "      <td>0</td>\n",
       "      <td>0</td>\n",
       "      <td>0</td>\n",
       "      <td>0</td>\n",
       "      <td>0</td>\n",
       "      <td>0</td>\n",
       "      <td>0</td>\n",
       "      <td>0</td>\n",
       "      <td>0</td>\n",
       "    </tr>\n",
       "    <tr>\n",
       "      <th>3</th>\n",
       "      <td>4</td>\n",
       "      <td>0</td>\n",
       "      <td>0</td>\n",
       "      <td>0</td>\n",
       "      <td>0</td>\n",
       "      <td>0</td>\n",
       "      <td>0</td>\n",
       "      <td>0</td>\n",
       "      <td>0</td>\n",
       "      <td>0</td>\n",
       "      <td>...</td>\n",
       "      <td>0</td>\n",
       "      <td>0</td>\n",
       "      <td>0</td>\n",
       "      <td>0</td>\n",
       "      <td>0</td>\n",
       "      <td>0</td>\n",
       "      <td>0</td>\n",
       "      <td>0</td>\n",
       "      <td>0</td>\n",
       "      <td>0</td>\n",
       "    </tr>\n",
       "    <tr>\n",
       "      <th>4</th>\n",
       "      <td>0</td>\n",
       "      <td>0</td>\n",
       "      <td>0</td>\n",
       "      <td>0</td>\n",
       "      <td>0</td>\n",
       "      <td>0</td>\n",
       "      <td>0</td>\n",
       "      <td>0</td>\n",
       "      <td>0</td>\n",
       "      <td>0</td>\n",
       "      <td>...</td>\n",
       "      <td>0</td>\n",
       "      <td>0</td>\n",
       "      <td>0</td>\n",
       "      <td>0</td>\n",
       "      <td>0</td>\n",
       "      <td>0</td>\n",
       "      <td>0</td>\n",
       "      <td>0</td>\n",
       "      <td>0</td>\n",
       "      <td>0</td>\n",
       "    </tr>\n",
       "  </tbody>\n",
       "</table>\n",
       "<p>5 rows × 785 columns</p>\n",
       "</div>"
      ],
      "text/plain": [
       "   label  pixel0  pixel1  pixel2  pixel3  pixel4  pixel5  pixel6  pixel7  \\\n",
       "0      1       0       0       0       0       0       0       0       0   \n",
       "1      0       0       0       0       0       0       0       0       0   \n",
       "2      1       0       0       0       0       0       0       0       0   \n",
       "3      4       0       0       0       0       0       0       0       0   \n",
       "4      0       0       0       0       0       0       0       0       0   \n",
       "\n",
       "   pixel8  ...  pixel774  pixel775  pixel776  pixel777  pixel778  pixel779  \\\n",
       "0       0  ...         0         0         0         0         0         0   \n",
       "1       0  ...         0         0         0         0         0         0   \n",
       "2       0  ...         0         0         0         0         0         0   \n",
       "3       0  ...         0         0         0         0         0         0   \n",
       "4       0  ...         0         0         0         0         0         0   \n",
       "\n",
       "   pixel780  pixel781  pixel782  pixel783  \n",
       "0         0         0         0         0  \n",
       "1         0         0         0         0  \n",
       "2         0         0         0         0  \n",
       "3         0         0         0         0  \n",
       "4         0         0         0         0  \n",
       "\n",
       "[5 rows x 785 columns]"
      ]
     },
     "execution_count": 169,
     "metadata": {},
     "output_type": "execute_result"
    }
   ],
   "source": [
    "# 1.- Load the training data (train.csv) from Kaggle\n",
    "data = pd.read_csv('train.csv')\n",
    "data.head()"
   ]
  },
  {
   "cell_type": "code",
   "execution_count": 170,
   "metadata": {},
   "outputs": [
    {
     "data": {
      "text/plain": [
       "(42000, 785)"
      ]
     },
     "execution_count": 170,
     "metadata": {},
     "output_type": "execute_result"
    }
   ],
   "source": [
    "# Check the shape\n",
    "data.shape"
   ]
  },
  {
   "cell_type": "code",
   "execution_count": 171,
   "metadata": {},
   "outputs": [],
   "source": [
    "# 2.- Setup X and y (feature matrix and target vector)\n",
    "X = data.drop('label', axis=1)\n",
    "y = data['label'].astype('int')\n",
    "\n",
    "# 3.- Split X and y into train and test subsets.\n",
    "X_train, X_test, y_train, y_test = train_test_split(X, y)\n",
    "ss = StandardScaler()\n",
    "X_train = ss.fit_transform(X_train)\n",
    "X_test = ss.transform(X_test)"
   ]
  },
  {
   "cell_type": "code",
   "execution_count": 172,
   "metadata": {},
   "outputs": [
    {
     "data": {
      "text/plain": [
       "0    1\n",
       "1    0\n",
       "2    1\n",
       "3    4\n",
       "4    0\n",
       "5    0\n",
       "6    7\n",
       "7    3\n",
       "8    5\n",
       "9    3\n",
       "Name: label, dtype: int64"
      ]
     },
     "execution_count": 172,
     "metadata": {},
     "output_type": "execute_result"
    }
   ],
   "source": [
    "# Check the y-values (the 'labels' column with numbers)\n",
    "y[:10]"
   ]
  },
  {
   "cell_type": "code",
   "execution_count": 173,
   "metadata": {},
   "outputs": [],
   "source": [
    "# Reshape the x_train and x_test for a 4-dimensions feed forward neural network\n",
    "X_train = X_train.reshape((X_train.shape[0], 28, 28, 1))#.astype('float32')\n",
    "X_test = X_test.reshape((X_test.shape[0], 28, 28, 1))#.astype('float32')"
   ]
  },
  {
   "cell_type": "code",
   "execution_count": 174,
   "metadata": {},
   "outputs": [
    {
     "data": {
      "text/plain": [
       "(10500, 28, 28, 1)"
      ]
     },
     "execution_count": 174,
     "metadata": {},
     "output_type": "execute_result"
    }
   ],
   "source": [
    "# Check the shape again (needs to be 4-dimensions)\n",
    "X_test.shape"
   ]
  },
  {
   "cell_type": "code",
   "execution_count": 175,
   "metadata": {},
   "outputs": [],
   "source": [
    "# 4.- Preprocess your data\n",
    "# - When dealing with image data, we need to normalize our X by dividing each value by the max value of a pixel (255).\n",
    "X_train /= 255\n",
    "X_test /= 255\n",
    "\n",
    "X_train = X_train.astype('float32')\n",
    "X_test = X_test.astype('float32')\n",
    "\n",
    "\n",
    "# - Since this is a multiclass classification problem, keras needs y to be a one-hot encoded matrix\n",
    "y_train = to_categorical(y_train, 10)\n",
    "y_test = to_categorical(y_test, 10)\n"
   ]
  },
  {
   "cell_type": "code",
   "execution_count": 176,
   "metadata": {},
   "outputs": [
    {
     "data": {
      "text/plain": [
       "array([[0., 0., 0., 0., 0., 0., 0., 1., 0., 0.],\n",
       "       [0., 0., 0., 0., 0., 0., 0., 0., 1., 0.],\n",
       "       [0., 0., 0., 0., 0., 1., 0., 0., 0., 0.],\n",
       "       [0., 0., 0., 0., 0., 0., 0., 0., 1., 0.],\n",
       "       [0., 0., 0., 0., 1., 0., 0., 0., 0., 0.],\n",
       "       [1., 0., 0., 0., 0., 0., 0., 0., 0., 0.],\n",
       "       [0., 0., 0., 0., 0., 0., 1., 0., 0., 0.],\n",
       "       [1., 0., 0., 0., 0., 0., 0., 0., 0., 0.],\n",
       "       [0., 1., 0., 0., 0., 0., 0., 0., 0., 0.],\n",
       "       [0., 0., 0., 0., 0., 0., 1., 0., 0., 0.]], dtype=float32)"
      ]
     },
     "execution_count": 176,
     "metadata": {},
     "output_type": "execute_result"
    }
   ],
   "source": [
    "# Check the one-hot encoded matrix\n",
    "y_train[:10]"
   ]
  },
  {
   "cell_type": "markdown",
   "metadata": {},
   "source": [
    "# The (Feed Forward) Model "
   ]
  },
  {
   "cell_type": "code",
   "execution_count": 177,
   "metadata": {},
   "outputs": [],
   "source": [
    "# 5.- Create our network\n",
    "# - Remember that for multi-class classification we need a softamx activation function on the output layer.\n",
    "# - We should consider using regularization or dropout to improve performance.\n",
    "\n",
    "from keras import regularizers\n",
    "model = Sequential()\n",
    "model.add(Flatten())"
   ]
  },
  {
   "cell_type": "code",
   "execution_count": 178,
   "metadata": {},
   "outputs": [],
   "source": [
    "\n",
    "model.add(Dense(128, \n",
    "                #input_dim=n_input,\n",
    "                activation = 'relu',\n",
    "                kernel_regularizer=regularizers.l1(0.000001)))\n",
    "\n",
    "model.add(Dense(32, \n",
    "                activation = 'relu',\n",
    "                kernel_regularizer=regularizers.l1(0.000001)))\n",
    "\n",
    "model.add(Dense(10,\n",
    "                activation = 'softmax'))\n",
    "\n",
    "model.compile(loss='categorical_crossentropy',\n",
    "              optimizer='adam',\n",
    "              metrics=['accuracy'])"
   ]
  },
  {
   "cell_type": "code",
   "execution_count": 179,
   "metadata": {},
   "outputs": [
    {
     "name": "stdout",
     "output_type": "stream",
     "text": [
      "Train on 31500 samples, validate on 10500 samples\n",
      "Epoch 1/100\n",
      "31500/31500 [==============================] - 1s 39us/sample - loss: 1.9202 - accuracy: 0.5253 - val_loss: 1.2694 - val_accuracy: 0.7024\n",
      "Epoch 2/100\n",
      "31500/31500 [==============================] - 0s 11us/sample - loss: 0.8821 - accuracy: 0.7928 - val_loss: 0.6477 - val_accuracy: 0.8422\n",
      "Epoch 3/100\n",
      "31500/31500 [==============================] - 0s 11us/sample - loss: 0.5486 - accuracy: 0.8589 - val_loss: 0.4856 - val_accuracy: 0.8724\n",
      "Epoch 4/100\n",
      "31500/31500 [==============================] - 0s 11us/sample - loss: 0.4388 - accuracy: 0.8822 - val_loss: 0.4166 - val_accuracy: 0.8834\n",
      "Epoch 5/100\n",
      "31500/31500 [==============================] - 0s 11us/sample - loss: 0.3864 - accuracy: 0.8933 - val_loss: 0.3776 - val_accuracy: 0.8950\n",
      "Epoch 6/100\n",
      "31500/31500 [==============================] - 0s 10us/sample - loss: 0.3532 - accuracy: 0.9019 - val_loss: 0.3572 - val_accuracy: 0.8983\n",
      "Epoch 7/100\n",
      "31500/31500 [==============================] - 0s 10us/sample - loss: 0.3299 - accuracy: 0.9079 - val_loss: 0.3353 - val_accuracy: 0.9088\n",
      "Epoch 8/100\n",
      "31500/31500 [==============================] - 0s 10us/sample - loss: 0.3115 - accuracy: 0.9145 - val_loss: 0.3216 - val_accuracy: 0.9097\n",
      "Epoch 9/100\n",
      "31500/31500 [==============================] - 0s 11us/sample - loss: 0.2967 - accuracy: 0.9181 - val_loss: 0.3088 - val_accuracy: 0.9150\n",
      "Epoch 10/100\n",
      "31500/31500 [==============================] - 0s 11us/sample - loss: 0.2855 - accuracy: 0.9221 - val_loss: 0.3036 - val_accuracy: 0.9148\n",
      "Epoch 11/100\n",
      "31500/31500 [==============================] - 0s 11us/sample - loss: 0.2754 - accuracy: 0.9239 - val_loss: 0.2946 - val_accuracy: 0.9212\n",
      "Epoch 12/100\n",
      "31500/31500 [==============================] - 0s 11us/sample - loss: 0.2667 - accuracy: 0.9270 - val_loss: 0.2864 - val_accuracy: 0.9205\n",
      "Epoch 13/100\n",
      "31500/31500 [==============================] - 0s 11us/sample - loss: 0.2593 - accuracy: 0.9302 - val_loss: 0.2814 - val_accuracy: 0.9228\n",
      "Epoch 14/100\n",
      "31500/31500 [==============================] - 0s 11us/sample - loss: 0.2511 - accuracy: 0.9319 - val_loss: 0.2756 - val_accuracy: 0.9245\n",
      "Epoch 15/100\n",
      "31500/31500 [==============================] - 0s 12us/sample - loss: 0.2448 - accuracy: 0.9339 - val_loss: 0.2683 - val_accuracy: 0.9264\n",
      "Epoch 16/100\n",
      "31500/31500 [==============================] - 0s 11us/sample - loss: 0.2380 - accuracy: 0.9359 - val_loss: 0.2640 - val_accuracy: 0.9282\n",
      "Epoch 17/100\n",
      "31500/31500 [==============================] - 0s 11us/sample - loss: 0.2317 - accuracy: 0.9381 - val_loss: 0.2594 - val_accuracy: 0.9291\n",
      "Epoch 18/100\n",
      "31500/31500 [==============================] - 0s 12us/sample - loss: 0.2255 - accuracy: 0.9395 - val_loss: 0.2527 - val_accuracy: 0.9306\n",
      "Epoch 19/100\n",
      "31500/31500 [==============================] - 0s 11us/sample - loss: 0.2196 - accuracy: 0.9416 - val_loss: 0.2513 - val_accuracy: 0.9309\n",
      "Epoch 20/100\n",
      "31500/31500 [==============================] - 0s 11us/sample - loss: 0.2137 - accuracy: 0.9435 - val_loss: 0.2430 - val_accuracy: 0.9334\n",
      "Epoch 21/100\n",
      "31500/31500 [==============================] - 0s 11us/sample - loss: 0.2080 - accuracy: 0.9443 - val_loss: 0.2392 - val_accuracy: 0.9344\n",
      "Epoch 22/100\n",
      "31500/31500 [==============================] - 0s 14us/sample - loss: 0.2024 - accuracy: 0.9468 - val_loss: 0.2325 - val_accuracy: 0.9380\n",
      "Epoch 23/100\n",
      "31500/31500 [==============================] - 1s 16us/sample - loss: 0.1967 - accuracy: 0.9483 - val_loss: 0.2307 - val_accuracy: 0.9380\n",
      "Epoch 24/100\n",
      "31500/31500 [==============================] - 0s 10us/sample - loss: 0.1915 - accuracy: 0.9494 - val_loss: 0.2244 - val_accuracy: 0.9389\n",
      "Epoch 25/100\n",
      "31500/31500 [==============================] - 0s 13us/sample - loss: 0.1864 - accuracy: 0.9510 - val_loss: 0.2218 - val_accuracy: 0.9412\n",
      "Epoch 26/100\n",
      "31500/31500 [==============================] - 0s 10us/sample - loss: 0.1814 - accuracy: 0.9524 - val_loss: 0.2159 - val_accuracy: 0.9417\n",
      "Epoch 27/100\n",
      "31500/31500 [==============================] - 0s 10us/sample - loss: 0.1760 - accuracy: 0.9541 - val_loss: 0.2123 - val_accuracy: 0.9426\n",
      "Epoch 28/100\n",
      "31500/31500 [==============================] - 0s 10us/sample - loss: 0.1715 - accuracy: 0.9566 - val_loss: 0.2085 - val_accuracy: 0.9455\n",
      "Epoch 29/100\n",
      "31500/31500 [==============================] - 0s 10us/sample - loss: 0.1668 - accuracy: 0.9574 - val_loss: 0.2049 - val_accuracy: 0.9452\n",
      "Epoch 30/100\n",
      "31500/31500 [==============================] - 0s 10us/sample - loss: 0.1622 - accuracy: 0.9586 - val_loss: 0.1999 - val_accuracy: 0.9470\n",
      "Epoch 31/100\n",
      "31500/31500 [==============================] - 0s 10us/sample - loss: 0.1582 - accuracy: 0.9595 - val_loss: 0.2003 - val_accuracy: 0.9465\n",
      "Epoch 32/100\n",
      "31500/31500 [==============================] - 0s 11us/sample - loss: 0.1543 - accuracy: 0.9615 - val_loss: 0.1936 - val_accuracy: 0.9475\n",
      "Epoch 33/100\n",
      "31500/31500 [==============================] - 0s 11us/sample - loss: 0.1500 - accuracy: 0.9622 - val_loss: 0.1912 - val_accuracy: 0.9498\n",
      "Epoch 34/100\n",
      "31500/31500 [==============================] - 0s 10us/sample - loss: 0.1466 - accuracy: 0.9632 - val_loss: 0.1894 - val_accuracy: 0.9497\n",
      "Epoch 35/100\n",
      "31500/31500 [==============================] - 0s 10us/sample - loss: 0.1424 - accuracy: 0.9644 - val_loss: 0.1860 - val_accuracy: 0.9506\n",
      "Epoch 36/100\n",
      "31500/31500 [==============================] - 0s 10us/sample - loss: 0.1386 - accuracy: 0.9661 - val_loss: 0.1867 - val_accuracy: 0.9497\n",
      "Epoch 37/100\n",
      "31500/31500 [==============================] - 0s 10us/sample - loss: 0.1354 - accuracy: 0.9662 - val_loss: 0.1801 - val_accuracy: 0.9525\n",
      "Epoch 38/100\n",
      "31500/31500 [==============================] - 0s 13us/sample - loss: 0.1315 - accuracy: 0.9681 - val_loss: 0.1784 - val_accuracy: 0.9534\n",
      "Epoch 39/100\n",
      "31500/31500 [==============================] - 0s 15us/sample - loss: 0.1284 - accuracy: 0.9691 - val_loss: 0.1784 - val_accuracy: 0.9536\n",
      "Epoch 40/100\n",
      "31500/31500 [==============================] - 0s 13us/sample - loss: 0.1255 - accuracy: 0.9698 - val_loss: 0.1750 - val_accuracy: 0.9550\n",
      "Epoch 41/100\n",
      "31500/31500 [==============================] - 0s 11us/sample - loss: 0.1228 - accuracy: 0.9705 - val_loss: 0.1730 - val_accuracy: 0.9547\n",
      "Epoch 42/100\n",
      "31500/31500 [==============================] - 0s 11us/sample - loss: 0.1194 - accuracy: 0.9712 - val_loss: 0.1716 - val_accuracy: 0.9564\n",
      "Epoch 43/100\n",
      "31500/31500 [==============================] - 0s 15us/sample - loss: 0.1169 - accuracy: 0.9717 - val_loss: 0.1707 - val_accuracy: 0.9558\n",
      "Epoch 44/100\n",
      "31500/31500 [==============================] - 0s 11us/sample - loss: 0.1141 - accuracy: 0.9731 - val_loss: 0.1703 - val_accuracy: 0.9569\n",
      "Epoch 45/100\n",
      "31500/31500 [==============================] - 0s 11us/sample - loss: 0.1118 - accuracy: 0.9731 - val_loss: 0.1671 - val_accuracy: 0.9574\n",
      "Epoch 46/100\n",
      "31500/31500 [==============================] - 0s 11us/sample - loss: 0.1083 - accuracy: 0.9750 - val_loss: 0.1669 - val_accuracy: 0.9563\n",
      "Epoch 47/100\n",
      "31500/31500 [==============================] - 0s 11us/sample - loss: 0.1061 - accuracy: 0.9755 - val_loss: 0.1670 - val_accuracy: 0.9570\n",
      "Epoch 48/100\n",
      "31500/31500 [==============================] - 0s 11us/sample - loss: 0.1041 - accuracy: 0.9753 - val_loss: 0.1635 - val_accuracy: 0.9580\n",
      "Epoch 49/100\n",
      "31500/31500 [==============================] - 0s 11us/sample - loss: 0.1011 - accuracy: 0.9771 - val_loss: 0.1628 - val_accuracy: 0.9570\n",
      "Epoch 50/100\n",
      "31500/31500 [==============================] - 0s 11us/sample - loss: 0.0989 - accuracy: 0.9777 - val_loss: 0.1612 - val_accuracy: 0.9593\n",
      "Epoch 51/100\n",
      "31500/31500 [==============================] - 0s 11us/sample - loss: 0.0968 - accuracy: 0.9783 - val_loss: 0.1606 - val_accuracy: 0.9599\n",
      "Epoch 52/100\n",
      "31500/31500 [==============================] - 0s 11us/sample - loss: 0.0943 - accuracy: 0.9783 - val_loss: 0.1588 - val_accuracy: 0.9597\n",
      "Epoch 53/100\n",
      "31500/31500 [==============================] - 0s 11us/sample - loss: 0.0926 - accuracy: 0.9797 - val_loss: 0.1573 - val_accuracy: 0.9607\n",
      "Epoch 54/100\n",
      "31500/31500 [==============================] - 0s 11us/sample - loss: 0.0903 - accuracy: 0.9801 - val_loss: 0.1559 - val_accuracy: 0.9607\n"
     ]
    },
    {
     "name": "stdout",
     "output_type": "stream",
     "text": [
      "Epoch 55/100\n",
      "31500/31500 [==============================] - 0s 11us/sample - loss: 0.0879 - accuracy: 0.9807 - val_loss: 0.1565 - val_accuracy: 0.9599\n",
      "Epoch 56/100\n",
      "31500/31500 [==============================] - 0s 12us/sample - loss: 0.0863 - accuracy: 0.9811 - val_loss: 0.1544 - val_accuracy: 0.9600\n",
      "Epoch 57/100\n",
      "31500/31500 [==============================] - 0s 12us/sample - loss: 0.0846 - accuracy: 0.9824 - val_loss: 0.1540 - val_accuracy: 0.9614\n",
      "Epoch 58/100\n",
      "31500/31500 [==============================] - 0s 11us/sample - loss: 0.0823 - accuracy: 0.9825 - val_loss: 0.1543 - val_accuracy: 0.9608\n",
      "Epoch 59/100\n",
      "31500/31500 [==============================] - 0s 15us/sample - loss: 0.0807 - accuracy: 0.9825 - val_loss: 0.1540 - val_accuracy: 0.9608\n",
      "Epoch 60/100\n",
      "31500/31500 [==============================] - 0s 14us/sample - loss: 0.0786 - accuracy: 0.9832 - val_loss: 0.1520 - val_accuracy: 0.9610\n",
      "Epoch 61/100\n",
      "31500/31500 [==============================] - 0s 14us/sample - loss: 0.0774 - accuracy: 0.9841 - val_loss: 0.1513 - val_accuracy: 0.9614\n",
      "Epoch 62/100\n",
      "31500/31500 [==============================] - 0s 10us/sample - loss: 0.0756 - accuracy: 0.9846 - val_loss: 0.1504 - val_accuracy: 0.9618\n",
      "Epoch 63/100\n",
      "31500/31500 [==============================] - 0s 11us/sample - loss: 0.0742 - accuracy: 0.9848 - val_loss: 0.1499 - val_accuracy: 0.9614\n",
      "Epoch 64/100\n",
      "31500/31500 [==============================] - 0s 11us/sample - loss: 0.0720 - accuracy: 0.9855 - val_loss: 0.1522 - val_accuracy: 0.9615\n",
      "Epoch 65/100\n",
      "31500/31500 [==============================] - 0s 11us/sample - loss: 0.0709 - accuracy: 0.9859 - val_loss: 0.1500 - val_accuracy: 0.9623\n",
      "Epoch 66/100\n",
      "31500/31500 [==============================] - 0s 11us/sample - loss: 0.0694 - accuracy: 0.9860 - val_loss: 0.1508 - val_accuracy: 0.9611\n",
      "Epoch 67/100\n",
      "31500/31500 [==============================] - 0s 11us/sample - loss: 0.0679 - accuracy: 0.9869 - val_loss: 0.1489 - val_accuracy: 0.9620\n",
      "Epoch 68/100\n",
      "31500/31500 [==============================] - 0s 11us/sample - loss: 0.0668 - accuracy: 0.9871 - val_loss: 0.1486 - val_accuracy: 0.9621\n",
      "Epoch 69/100\n",
      "31500/31500 [==============================] - 0s 9us/sample - loss: 0.0650 - accuracy: 0.9876 - val_loss: 0.1498 - val_accuracy: 0.9606\n",
      "Epoch 70/100\n",
      "31500/31500 [==============================] - 0s 10us/sample - loss: 0.0640 - accuracy: 0.9879 - val_loss: 0.1465 - val_accuracy: 0.9623\n",
      "Epoch 71/100\n",
      "31500/31500 [==============================] - 0s 10us/sample - loss: 0.0623 - accuracy: 0.9886 - val_loss: 0.1478 - val_accuracy: 0.9627\n",
      "Epoch 72/100\n",
      "31500/31500 [==============================] - 0s 13us/sample - loss: 0.0610 - accuracy: 0.9889 - val_loss: 0.1470 - val_accuracy: 0.9627\n",
      "Epoch 73/100\n",
      "31500/31500 [==============================] - 0s 15us/sample - loss: 0.0600 - accuracy: 0.9892 - val_loss: 0.1471 - val_accuracy: 0.9633\n",
      "Epoch 74/100\n",
      "31500/31500 [==============================] - 0s 13us/sample - loss: 0.0582 - accuracy: 0.9897 - val_loss: 0.1478 - val_accuracy: 0.9621\n",
      "Epoch 75/100\n",
      "31500/31500 [==============================] - 0s 11us/sample - loss: 0.0577 - accuracy: 0.9894 - val_loss: 0.1469 - val_accuracy: 0.9620\n",
      "Epoch 76/100\n",
      "31500/31500 [==============================] - 0s 13us/sample - loss: 0.0559 - accuracy: 0.9904 - val_loss: 0.1453 - val_accuracy: 0.9624\n",
      "Epoch 77/100\n",
      "31500/31500 [==============================] - 0s 13us/sample - loss: 0.0552 - accuracy: 0.9903 - val_loss: 0.1463 - val_accuracy: 0.9630\n",
      "Epoch 78/100\n",
      "31500/31500 [==============================] - 0s 14us/sample - loss: 0.0541 - accuracy: 0.9905 - val_loss: 0.1452 - val_accuracy: 0.9628\n",
      "Epoch 79/100\n",
      "31500/31500 [==============================] - 0s 12us/sample - loss: 0.0525 - accuracy: 0.9914 - val_loss: 0.1477 - val_accuracy: 0.9630\n",
      "Epoch 80/100\n",
      "31500/31500 [==============================] - 0s 14us/sample - loss: 0.0519 - accuracy: 0.9915 - val_loss: 0.1458 - val_accuracy: 0.9631\n",
      "Epoch 81/100\n",
      "31500/31500 [==============================] - 0s 12us/sample - loss: 0.0508 - accuracy: 0.9918 - val_loss: 0.1460 - val_accuracy: 0.9631\n",
      "Epoch 82/100\n",
      "31500/31500 [==============================] - 0s 12us/sample - loss: 0.0495 - accuracy: 0.9922 - val_loss: 0.1503 - val_accuracy: 0.9630\n",
      "Epoch 83/100\n",
      "31500/31500 [==============================] - 0s 12us/sample - loss: 0.0492 - accuracy: 0.9926 - val_loss: 0.1461 - val_accuracy: 0.9630\n",
      "Epoch 84/100\n",
      "31500/31500 [==============================] - 0s 11us/sample - loss: 0.0480 - accuracy: 0.9933 - val_loss: 0.1457 - val_accuracy: 0.9635\n",
      "Epoch 85/100\n",
      "31500/31500 [==============================] - 0s 13us/sample - loss: 0.0472 - accuracy: 0.9930 - val_loss: 0.1458 - val_accuracy: 0.9639\n",
      "Epoch 86/100\n",
      "31500/31500 [==============================] - 0s 12us/sample - loss: 0.0462 - accuracy: 0.9935 - val_loss: 0.1451 - val_accuracy: 0.9634\n",
      "Epoch 87/100\n",
      "31500/31500 [==============================] - 0s 13us/sample - loss: 0.0452 - accuracy: 0.9938 - val_loss: 0.1452 - val_accuracy: 0.9646\n",
      "Epoch 88/100\n",
      "31500/31500 [==============================] - 0s 13us/sample - loss: 0.0444 - accuracy: 0.9940 - val_loss: 0.1460 - val_accuracy: 0.9635\n",
      "Epoch 89/100\n",
      "31500/31500 [==============================] - 0s 13us/sample - loss: 0.0437 - accuracy: 0.9943 - val_loss: 0.1482 - val_accuracy: 0.9632\n",
      "Epoch 90/100\n",
      "31500/31500 [==============================] - 0s 12us/sample - loss: 0.0427 - accuracy: 0.9950 - val_loss: 0.1455 - val_accuracy: 0.9643\n",
      "Epoch 91/100\n",
      "31500/31500 [==============================] - 0s 12us/sample - loss: 0.0420 - accuracy: 0.9948 - val_loss: 0.1470 - val_accuracy: 0.9641\n",
      "Epoch 92/100\n",
      "31500/31500 [==============================] - 0s 13us/sample - loss: 0.0414 - accuracy: 0.9953 - val_loss: 0.1460 - val_accuracy: 0.9650\n",
      "Epoch 93/100\n",
      "31500/31500 [==============================] - 0s 11us/sample - loss: 0.0402 - accuracy: 0.9955 - val_loss: 0.1487 - val_accuracy: 0.9630\n",
      "Epoch 94/100\n",
      "31500/31500 [==============================] - 0s 13us/sample - loss: 0.0397 - accuracy: 0.9959 - val_loss: 0.1460 - val_accuracy: 0.9638\n",
      "Epoch 95/100\n",
      "31500/31500 [==============================] - 0s 13us/sample - loss: 0.0390 - accuracy: 0.9964 - val_loss: 0.1470 - val_accuracy: 0.9639\n",
      "Epoch 96/100\n",
      "31500/31500 [==============================] - 0s 12us/sample - loss: 0.0384 - accuracy: 0.9965 - val_loss: 0.1473 - val_accuracy: 0.9641\n",
      "Epoch 97/100\n",
      "31500/31500 [==============================] - 0s 13us/sample - loss: 0.0378 - accuracy: 0.9960 - val_loss: 0.1481 - val_accuracy: 0.9648\n",
      "Epoch 98/100\n",
      "31500/31500 [==============================] - 0s 11us/sample - loss: 0.0371 - accuracy: 0.9964 - val_loss: 0.1454 - val_accuracy: 0.9644\n",
      "Epoch 99/100\n",
      "31500/31500 [==============================] - 0s 11us/sample - loss: 0.0366 - accuracy: 0.9967 - val_loss: 0.1477 - val_accuracy: 0.9655\n",
      "Epoch 100/100\n",
      "31500/31500 [==============================] - 0s 11us/sample - loss: 0.0360 - accuracy: 0.9969 - val_loss: 0.1520 - val_accuracy: 0.9645\n"
     ]
    }
   ],
   "source": [
    "history = model.fit(X_train,\n",
    "                    y_train, \n",
    "                    batch_size=300,\n",
    "                    validation_data=(X_test, y_test),\n",
    "                    epochs=100,\n",
    "                    verbose=1)"
   ]
  },
  {
   "cell_type": "code",
   "execution_count": 180,
   "metadata": {},
   "outputs": [
    {
     "name": "stdout",
     "output_type": "stream",
     "text": [
      "Model: \"sequential_4\"\n",
      "_________________________________________________________________\n",
      "Layer (type)                 Output Shape              Param #   \n",
      "=================================================================\n",
      "flatten_4 (Flatten)          multiple                  0         \n",
      "_________________________________________________________________\n",
      "dense_12 (Dense)             multiple                  100480    \n",
      "_________________________________________________________________\n",
      "dense_13 (Dense)             multiple                  4128      \n",
      "_________________________________________________________________\n",
      "dense_14 (Dense)             multiple                  330       \n",
      "=================================================================\n",
      "Total params: 104,938\n",
      "Trainable params: 104,938\n",
      "Non-trainable params: 0\n",
      "_________________________________________________________________\n"
     ]
    }
   ],
   "source": [
    "model.summary()"
   ]
  },
  {
   "cell_type": "code",
   "execution_count": 181,
   "metadata": {},
   "outputs": [
    {
     "data": {
      "image/png": "[encoded data removed]",
      "text/plain": [
       "<Figure size 864x576 with 1 Axes>"
      ]
     },
     "metadata": {
      "needs_background": "light"
     },
     "output_type": "display_data"
    }
   ],
   "source": [
    "# Check out our train loss and test loss over epochs.\n",
    "train_loss = history.history['loss']\n",
    "test_loss = history.history['val_loss']\n",
    "\n",
    "# Set figure size.\n",
    "plt.figure(figsize=(12, 8))\n",
    "\n",
    "# Generate line plot of training, testing loss over epochs.\n",
    "plt.plot(train_loss, label='Training Loss', color='#185fad')\n",
    "plt.plot(test_loss, label='Testing Loss', color='orange')\n",
    "\n",
    "# Set title\n",
    "plt.title('Training and Testing Loss by Epoch', fontsize = 25)\n",
    "plt.xlabel('Epoch', fontsize = 18)\n",
    "plt.ylabel('Categorical Crossentropy', fontsize = 18)\n",
    "plt.xticks([0, 1, 2, 3, 4], [1, 2, 3, 4, 5])\n",
    "\n",
    "plt.legend(fontsize = 18);"
   ]
  },
  {
   "cell_type": "code",
   "execution_count": 182,
   "metadata": {},
   "outputs": [
    {
     "name": "stdout",
     "output_type": "stream",
     "text": [
      "10500/10500 [==============================] - 0s 37us/sample - loss: 0.1520 - accuracy: 0.9645\n"
     ]
    }
   ],
   "source": [
    "# Evaluate model on test data.\n",
    "score = model.evaluate(X_test,\n",
    "                       y_test,\n",
    "                       verbose=1)\n",
    "\n",
    "labels = model.metrics_names"
   ]
  },
  {
   "cell_type": "code",
   "execution_count": 183,
   "metadata": {},
   "outputs": [
    {
     "name": "stdout",
     "output_type": "stream",
     "text": [
      "loss: 0.15202197279745625\n",
      "accuracy: 0.9644761681556702\n"
     ]
    }
   ],
   "source": [
    "# Show model performance.\n",
    "print(f'{labels[0]}: {score[0]}')\n",
    "print(f'{labels[1]}: {score[1]}')"
   ]
  },
  {
   "cell_type": "markdown",
   "metadata": {},
   "source": [
    "# Preparing Submission (for Kaggle competition)"
   ]
  },
  {
   "cell_type": "code",
   "execution_count": 184,
   "metadata": {
    "scrolled": true
   },
   "outputs": [
    {
     "data": {
      "text/html": [
       "<div>\n",
       "<style scoped>\n",
       "    .dataframe tbody tr th:only-of-type {\n",
       "        vertical-align: middle;\n",
       "    }\n",
       "\n",
       "    .dataframe tbody tr th {\n",
       "        vertical-align: top;\n",
       "    }\n",
       "\n",
       "    .dataframe thead th {\n",
       "        text-align: right;\n",
       "    }\n",
       "</style>\n",
       "<table border=\"1\" class=\"dataframe\">\n",
       "  <thead>\n",
       "    <tr style=\"text-align: right;\">\n",
       "      <th></th>\n",
       "      <th>pixel0</th>\n",
       "      <th>pixel1</th>\n",
       "      <th>pixel2</th>\n",
       "      <th>pixel3</th>\n",
       "      <th>pixel4</th>\n",
       "      <th>pixel5</th>\n",
       "      <th>pixel6</th>\n",
       "      <th>pixel7</th>\n",
       "      <th>pixel8</th>\n",
       "      <th>pixel9</th>\n",
       "      <th>...</th>\n",
       "      <th>pixel774</th>\n",
       "      <th>pixel775</th>\n",
       "      <th>pixel776</th>\n",
       "      <th>pixel777</th>\n",
       "      <th>pixel778</th>\n",
       "      <th>pixel779</th>\n",
       "      <th>pixel780</th>\n",
       "      <th>pixel781</th>\n",
       "      <th>pixel782</th>\n",
       "      <th>pixel783</th>\n",
       "    </tr>\n",
       "  </thead>\n",
       "  <tbody>\n",
       "    <tr>\n",
       "      <th>0</th>\n",
       "      <td>0</td>\n",
       "      <td>0</td>\n",
       "      <td>0</td>\n",
       "      <td>0</td>\n",
       "      <td>0</td>\n",
       "      <td>0</td>\n",
       "      <td>0</td>\n",
       "      <td>0</td>\n",
       "      <td>0</td>\n",
       "      <td>0</td>\n",
       "      <td>...</td>\n",
       "      <td>0</td>\n",
       "      <td>0</td>\n",
       "      <td>0</td>\n",
       "      <td>0</td>\n",
       "      <td>0</td>\n",
       "      <td>0</td>\n",
       "      <td>0</td>\n",
       "      <td>0</td>\n",
       "      <td>0</td>\n",
       "      <td>0</td>\n",
       "    </tr>\n",
       "    <tr>\n",
       "      <th>1</th>\n",
       "      <td>0</td>\n",
       "      <td>0</td>\n",
       "      <td>0</td>\n",
       "      <td>0</td>\n",
       "      <td>0</td>\n",
       "      <td>0</td>\n",
       "      <td>0</td>\n",
       "      <td>0</td>\n",
       "      <td>0</td>\n",
       "      <td>0</td>\n",
       "      <td>...</td>\n",
       "      <td>0</td>\n",
       "      <td>0</td>\n",
       "      <td>0</td>\n",
       "      <td>0</td>\n",
       "      <td>0</td>\n",
       "      <td>0</td>\n",
       "      <td>0</td>\n",
       "      <td>0</td>\n",
       "      <td>0</td>\n",
       "      <td>0</td>\n",
       "    </tr>\n",
       "    <tr>\n",
       "      <th>2</th>\n",
       "      <td>0</td>\n",
       "      <td>0</td>\n",
       "      <td>0</td>\n",
       "      <td>0</td>\n",
       "      <td>0</td>\n",
       "      <td>0</td>\n",
       "      <td>0</td>\n",
       "      <td>0</td>\n",
       "      <td>0</td>\n",
       "      <td>0</td>\n",
       "      <td>...</td>\n",
       "      <td>0</td>\n",
       "      <td>0</td>\n",
       "      <td>0</td>\n",
       "      <td>0</td>\n",
       "      <td>0</td>\n",
       "      <td>0</td>\n",
       "      <td>0</td>\n",
       "      <td>0</td>\n",
       "      <td>0</td>\n",
       "      <td>0</td>\n",
       "    </tr>\n",
       "    <tr>\n",
       "      <th>3</th>\n",
       "      <td>0</td>\n",
       "      <td>0</td>\n",
       "      <td>0</td>\n",
       "      <td>0</td>\n",
       "      <td>0</td>\n",
       "      <td>0</td>\n",
       "      <td>0</td>\n",
       "      <td>0</td>\n",
       "      <td>0</td>\n",
       "      <td>0</td>\n",
       "      <td>...</td>\n",
       "      <td>0</td>\n",
       "      <td>0</td>\n",
       "      <td>0</td>\n",
       "      <td>0</td>\n",
       "      <td>0</td>\n",
       "      <td>0</td>\n",
       "      <td>0</td>\n",
       "      <td>0</td>\n",
       "      <td>0</td>\n",
       "      <td>0</td>\n",
       "    </tr>\n",
       "    <tr>\n",
       "      <th>4</th>\n",
       "      <td>0</td>\n",
       "      <td>0</td>\n",
       "      <td>0</td>\n",
       "      <td>0</td>\n",
       "      <td>0</td>\n",
       "      <td>0</td>\n",
       "      <td>0</td>\n",
       "      <td>0</td>\n",
       "      <td>0</td>\n",
       "      <td>0</td>\n",
       "      <td>...</td>\n",
       "      <td>0</td>\n",
       "      <td>0</td>\n",
       "      <td>0</td>\n",
       "      <td>0</td>\n",
       "      <td>0</td>\n",
       "      <td>0</td>\n",
       "      <td>0</td>\n",
       "      <td>0</td>\n",
       "      <td>0</td>\n",
       "      <td>0</td>\n",
       "    </tr>\n",
       "  </tbody>\n",
       "</table>\n",
       "<p>5 rows × 784 columns</p>\n",
       "</div>"
      ],
      "text/plain": [
       "   pixel0  pixel1  pixel2  pixel3  pixel4  pixel5  pixel6  pixel7  pixel8  \\\n",
       "0       0       0       0       0       0       0       0       0       0   \n",
       "1       0       0       0       0       0       0       0       0       0   \n",
       "2       0       0       0       0       0       0       0       0       0   \n",
       "3       0       0       0       0       0       0       0       0       0   \n",
       "4       0       0       0       0       0       0       0       0       0   \n",
       "\n",
       "   pixel9  ...  pixel774  pixel775  pixel776  pixel777  pixel778  pixel779  \\\n",
       "0       0  ...         0         0         0         0         0         0   \n",
       "1       0  ...         0         0         0         0         0         0   \n",
       "2       0  ...         0         0         0         0         0         0   \n",
       "3       0  ...         0         0         0         0         0         0   \n",
       "4       0  ...         0         0         0         0         0         0   \n",
       "\n",
       "   pixel780  pixel781  pixel782  pixel783  \n",
       "0         0         0         0         0  \n",
       "1         0         0         0         0  \n",
       "2         0         0         0         0  \n",
       "3         0         0         0         0  \n",
       "4         0         0         0         0  \n",
       "\n",
       "[5 rows x 784 columns]"
      ]
     },
     "execution_count": 184,
     "metadata": {},
     "output_type": "execute_result"
    }
   ],
   "source": [
    "# We will now use our feed forward neural network to predict the labels on our 'test' dataset\n",
    "test = pd.read_csv('test.csv')\n",
    "test.head()"
   ]
  },
  {
   "cell_type": "code",
   "execution_count": 185,
   "metadata": {},
   "outputs": [
    {
     "data": {
      "text/plain": [
       "(28000, 784)"
      ]
     },
     "execution_count": 185,
     "metadata": {},
     "output_type": "execute_result"
    }
   ],
   "source": [
    "# Check the shape\n",
    "test.shape"
   ]
  },
  {
   "cell_type": "code",
   "execution_count": 186,
   "metadata": {},
   "outputs": [],
   "source": [
    "# We get every column on the tes dataset\n",
    "text_X = test[test.columns]"
   ]
  },
  {
   "cell_type": "code",
   "execution_count": 187,
   "metadata": {},
   "outputs": [
    {
     "data": {
      "text/html": [
       "<div>\n",
       "<style scoped>\n",
       "    .dataframe tbody tr th:only-of-type {\n",
       "        vertical-align: middle;\n",
       "    }\n",
       "\n",
       "    .dataframe tbody tr th {\n",
       "        vertical-align: top;\n",
       "    }\n",
       "\n",
       "    .dataframe thead th {\n",
       "        text-align: right;\n",
       "    }\n",
       "</style>\n",
       "<table border=\"1\" class=\"dataframe\">\n",
       "  <thead>\n",
       "    <tr style=\"text-align: right;\">\n",
       "      <th></th>\n",
       "      <th>pixel0</th>\n",
       "      <th>pixel1</th>\n",
       "      <th>pixel2</th>\n",
       "      <th>pixel3</th>\n",
       "      <th>pixel4</th>\n",
       "      <th>pixel5</th>\n",
       "      <th>pixel6</th>\n",
       "      <th>pixel7</th>\n",
       "      <th>pixel8</th>\n",
       "      <th>pixel9</th>\n",
       "      <th>...</th>\n",
       "      <th>pixel774</th>\n",
       "      <th>pixel775</th>\n",
       "      <th>pixel776</th>\n",
       "      <th>pixel777</th>\n",
       "      <th>pixel778</th>\n",
       "      <th>pixel779</th>\n",
       "      <th>pixel780</th>\n",
       "      <th>pixel781</th>\n",
       "      <th>pixel782</th>\n",
       "      <th>pixel783</th>\n",
       "    </tr>\n",
       "  </thead>\n",
       "  <tbody>\n",
       "    <tr>\n",
       "      <th>0</th>\n",
       "      <td>0</td>\n",
       "      <td>0</td>\n",
       "      <td>0</td>\n",
       "      <td>0</td>\n",
       "      <td>0</td>\n",
       "      <td>0</td>\n",
       "      <td>0</td>\n",
       "      <td>0</td>\n",
       "      <td>0</td>\n",
       "      <td>0</td>\n",
       "      <td>...</td>\n",
       "      <td>0</td>\n",
       "      <td>0</td>\n",
       "      <td>0</td>\n",
       "      <td>0</td>\n",
       "      <td>0</td>\n",
       "      <td>0</td>\n",
       "      <td>0</td>\n",
       "      <td>0</td>\n",
       "      <td>0</td>\n",
       "      <td>0</td>\n",
       "    </tr>\n",
       "    <tr>\n",
       "      <th>1</th>\n",
       "      <td>0</td>\n",
       "      <td>0</td>\n",
       "      <td>0</td>\n",
       "      <td>0</td>\n",
       "      <td>0</td>\n",
       "      <td>0</td>\n",
       "      <td>0</td>\n",
       "      <td>0</td>\n",
       "      <td>0</td>\n",
       "      <td>0</td>\n",
       "      <td>...</td>\n",
       "      <td>0</td>\n",
       "      <td>0</td>\n",
       "      <td>0</td>\n",
       "      <td>0</td>\n",
       "      <td>0</td>\n",
       "      <td>0</td>\n",
       "      <td>0</td>\n",
       "      <td>0</td>\n",
       "      <td>0</td>\n",
       "      <td>0</td>\n",
       "    </tr>\n",
       "    <tr>\n",
       "      <th>2</th>\n",
       "      <td>0</td>\n",
       "      <td>0</td>\n",
       "      <td>0</td>\n",
       "      <td>0</td>\n",
       "      <td>0</td>\n",
       "      <td>0</td>\n",
       "      <td>0</td>\n",
       "      <td>0</td>\n",
       "      <td>0</td>\n",
       "      <td>0</td>\n",
       "      <td>...</td>\n",
       "      <td>0</td>\n",
       "      <td>0</td>\n",
       "      <td>0</td>\n",
       "      <td>0</td>\n",
       "      <td>0</td>\n",
       "      <td>0</td>\n",
       "      <td>0</td>\n",
       "      <td>0</td>\n",
       "      <td>0</td>\n",
       "      <td>0</td>\n",
       "    </tr>\n",
       "    <tr>\n",
       "      <th>3</th>\n",
       "      <td>0</td>\n",
       "      <td>0</td>\n",
       "      <td>0</td>\n",
       "      <td>0</td>\n",
       "      <td>0</td>\n",
       "      <td>0</td>\n",
       "      <td>0</td>\n",
       "      <td>0</td>\n",
       "      <td>0</td>\n",
       "      <td>0</td>\n",
       "      <td>...</td>\n",
       "      <td>0</td>\n",
       "      <td>0</td>\n",
       "      <td>0</td>\n",
       "      <td>0</td>\n",
       "      <td>0</td>\n",
       "      <td>0</td>\n",
       "      <td>0</td>\n",
       "      <td>0</td>\n",
       "      <td>0</td>\n",
       "      <td>0</td>\n",
       "    </tr>\n",
       "    <tr>\n",
       "      <th>4</th>\n",
       "      <td>0</td>\n",
       "      <td>0</td>\n",
       "      <td>0</td>\n",
       "      <td>0</td>\n",
       "      <td>0</td>\n",
       "      <td>0</td>\n",
       "      <td>0</td>\n",
       "      <td>0</td>\n",
       "      <td>0</td>\n",
       "      <td>0</td>\n",
       "      <td>...</td>\n",
       "      <td>0</td>\n",
       "      <td>0</td>\n",
       "      <td>0</td>\n",
       "      <td>0</td>\n",
       "      <td>0</td>\n",
       "      <td>0</td>\n",
       "      <td>0</td>\n",
       "      <td>0</td>\n",
       "      <td>0</td>\n",
       "      <td>0</td>\n",
       "    </tr>\n",
       "  </tbody>\n",
       "</table>\n",
       "<p>5 rows × 784 columns</p>\n",
       "</div>"
      ],
      "text/plain": [
       "   pixel0  pixel1  pixel2  pixel3  pixel4  pixel5  pixel6  pixel7  pixel8  \\\n",
       "0       0       0       0       0       0       0       0       0       0   \n",
       "1       0       0       0       0       0       0       0       0       0   \n",
       "2       0       0       0       0       0       0       0       0       0   \n",
       "3       0       0       0       0       0       0       0       0       0   \n",
       "4       0       0       0       0       0       0       0       0       0   \n",
       "\n",
       "   pixel9  ...  pixel774  pixel775  pixel776  pixel777  pixel778  pixel779  \\\n",
       "0       0  ...         0         0         0         0         0         0   \n",
       "1       0  ...         0         0         0         0         0         0   \n",
       "2       0  ...         0         0         0         0         0         0   \n",
       "3       0  ...         0         0         0         0         0         0   \n",
       "4       0  ...         0         0         0         0         0         0   \n",
       "\n",
       "   pixel780  pixel781  pixel782  pixel783  \n",
       "0         0         0         0         0  \n",
       "1         0         0         0         0  \n",
       "2         0         0         0         0  \n",
       "3         0         0         0         0  \n",
       "4         0         0         0         0  \n",
       "\n",
       "[5 rows x 784 columns]"
      ]
     },
     "execution_count": 187,
     "metadata": {},
     "output_type": "execute_result"
    }
   ],
   "source": [
    "text_X.head()"
   ]
  },
  {
   "cell_type": "code",
   "execution_count": 188,
   "metadata": {},
   "outputs": [
    {
     "data": {
      "text/plain": [
       "(28000, 784)"
      ]
     },
     "execution_count": 188,
     "metadata": {},
     "output_type": "execute_result"
    }
   ],
   "source": [
    "text_X.shape"
   ]
  },
  {
   "cell_type": "code",
   "execution_count": 189,
   "metadata": {},
   "outputs": [],
   "source": [
    "# Now we get an array of every column on the tes dataset\n",
    "test_array = np.array(text_X)"
   ]
  },
  {
   "cell_type": "code",
   "execution_count": 190,
   "metadata": {},
   "outputs": [
    {
     "data": {
      "text/plain": [
       "(28000, 784)"
      ]
     },
     "execution_count": 190,
     "metadata": {},
     "output_type": "execute_result"
    }
   ],
   "source": [
    "test_array.shape"
   ]
  },
  {
   "cell_type": "code",
   "execution_count": 191,
   "metadata": {},
   "outputs": [
    {
     "data": {
      "text/plain": [
       "array([[0, 0, 0, ..., 0, 0, 0],\n",
       "       [0, 0, 0, ..., 0, 0, 0],\n",
       "       [0, 0, 0, ..., 0, 0, 0],\n",
       "       ...,\n",
       "       [0, 0, 0, ..., 0, 0, 0],\n",
       "       [0, 0, 0, ..., 0, 0, 0],\n",
       "       [0, 0, 0, ..., 0, 0, 0]])"
      ]
     },
     "execution_count": 191,
     "metadata": {},
     "output_type": "execute_result"
    }
   ],
   "source": [
    "test_array"
   ]
  },
  {
   "cell_type": "code",
   "execution_count": 192,
   "metadata": {},
   "outputs": [
    {
     "data": {
      "text/plain": [
       "array([536, 575, 186, 543, 436, 356, 127, 405, 289, 125])"
      ]
     },
     "execution_count": 192,
     "metadata": {},
     "output_type": "execute_result"
    }
   ],
   "source": [
    "test_array[:10].argmax(axis=1)"
   ]
  },
  {
   "cell_type": "markdown",
   "metadata": {},
   "source": [
    "## Predicts"
   ]
  },
  {
   "cell_type": "code",
   "execution_count": 193,
   "metadata": {},
   "outputs": [],
   "source": [
    "# Predictions of our feed forward neural network model\n",
    "predicts = model.predict(test_array).argmax(axis=1)"
   ]
  },
  {
   "cell_type": "code",
   "execution_count": 194,
   "metadata": {},
   "outputs": [
    {
     "data": {
      "text/plain": [
       "array([2, 0, 3, 7, 3, 7, 0, 3, 0, 3])"
      ]
     },
     "execution_count": 194,
     "metadata": {},
     "output_type": "execute_result"
    }
   ],
   "source": [
    "# Check that the predicts are between 0 and 9\n",
    "predicts[:10]"
   ]
  },
  {
   "cell_type": "code",
   "execution_count": 195,
   "metadata": {},
   "outputs": [
    {
     "data": {
      "text/plain": [
       "(28000,)"
      ]
     },
     "execution_count": 195,
     "metadata": {},
     "output_type": "execute_result"
    }
   ],
   "source": [
    "# Check that the predictions are only 1 column\n",
    "predicts.shape"
   ]
  },
  {
   "cell_type": "code",
   "execution_count": 196,
   "metadata": {},
   "outputs": [],
   "source": [
    "# We start preparing the format for the submission to Kaggle\n",
    "submission = pd.DataFrame(test.index+1)"
   ]
  },
  {
   "cell_type": "code",
   "execution_count": 197,
   "metadata": {},
   "outputs": [],
   "source": [
    "submission['Label'] = predicts"
   ]
  },
  {
   "cell_type": "code",
   "execution_count": 198,
   "metadata": {},
   "outputs": [
    {
     "data": {
      "text/html": [
       "<div>\n",
       "<style scoped>\n",
       "    .dataframe tbody tr th:only-of-type {\n",
       "        vertical-align: middle;\n",
       "    }\n",
       "\n",
       "    .dataframe tbody tr th {\n",
       "        vertical-align: top;\n",
       "    }\n",
       "\n",
       "    .dataframe thead th {\n",
       "        text-align: right;\n",
       "    }\n",
       "</style>\n",
       "<table border=\"1\" class=\"dataframe\">\n",
       "  <thead>\n",
       "    <tr style=\"text-align: right;\">\n",
       "      <th></th>\n",
       "      <th>0</th>\n",
       "      <th>Label</th>\n",
       "    </tr>\n",
       "  </thead>\n",
       "  <tbody>\n",
       "    <tr>\n",
       "      <th>27995</th>\n",
       "      <td>27996</td>\n",
       "      <td>9</td>\n",
       "    </tr>\n",
       "    <tr>\n",
       "      <th>27996</th>\n",
       "      <td>27997</td>\n",
       "      <td>7</td>\n",
       "    </tr>\n",
       "    <tr>\n",
       "      <th>27997</th>\n",
       "      <td>27998</td>\n",
       "      <td>3</td>\n",
       "    </tr>\n",
       "    <tr>\n",
       "      <th>27998</th>\n",
       "      <td>27999</td>\n",
       "      <td>9</td>\n",
       "    </tr>\n",
       "    <tr>\n",
       "      <th>27999</th>\n",
       "      <td>28000</td>\n",
       "      <td>2</td>\n",
       "    </tr>\n",
       "  </tbody>\n",
       "</table>\n",
       "</div>"
      ],
      "text/plain": [
       "           0  Label\n",
       "27995  27996      9\n",
       "27996  27997      7\n",
       "27997  27998      3\n",
       "27998  27999      9\n",
       "27999  28000      2"
      ]
     },
     "execution_count": 198,
     "metadata": {},
     "output_type": "execute_result"
    }
   ],
   "source": [
    "# We check the format of the predictions by looking at some of the rows\n",
    "submission.tail()"
   ]
  },
  {
   "cell_type": "code",
   "execution_count": 199,
   "metadata": {},
   "outputs": [],
   "source": [
    "# We remane the column named '0' as 'ImageId'\n",
    "submission.rename(columns={0: 'ImageId'}, inplace=True)"
   ]
  },
  {
   "cell_type": "code",
   "execution_count": 200,
   "metadata": {},
   "outputs": [
    {
     "data": {
      "text/html": [
       "<div>\n",
       "<style scoped>\n",
       "    .dataframe tbody tr th:only-of-type {\n",
       "        vertical-align: middle;\n",
       "    }\n",
       "\n",
       "    .dataframe tbody tr th {\n",
       "        vertical-align: top;\n",
       "    }\n",
       "\n",
       "    .dataframe thead th {\n",
       "        text-align: right;\n",
       "    }\n",
       "</style>\n",
       "<table border=\"1\" class=\"dataframe\">\n",
       "  <thead>\n",
       "    <tr style=\"text-align: right;\">\n",
       "      <th></th>\n",
       "      <th>ImageId</th>\n",
       "      <th>Label</th>\n",
       "    </tr>\n",
       "  </thead>\n",
       "  <tbody>\n",
       "    <tr>\n",
       "      <th>0</th>\n",
       "      <td>1</td>\n",
       "      <td>2</td>\n",
       "    </tr>\n",
       "    <tr>\n",
       "      <th>1</th>\n",
       "      <td>2</td>\n",
       "      <td>0</td>\n",
       "    </tr>\n",
       "    <tr>\n",
       "      <th>2</th>\n",
       "      <td>3</td>\n",
       "      <td>3</td>\n",
       "    </tr>\n",
       "    <tr>\n",
       "      <th>3</th>\n",
       "      <td>4</td>\n",
       "      <td>7</td>\n",
       "    </tr>\n",
       "    <tr>\n",
       "      <th>4</th>\n",
       "      <td>5</td>\n",
       "      <td>3</td>\n",
       "    </tr>\n",
       "  </tbody>\n",
       "</table>\n",
       "</div>"
      ],
      "text/plain": [
       "   ImageId  Label\n",
       "0        1      2\n",
       "1        2      0\n",
       "2        3      3\n",
       "3        4      7\n",
       "4        5      3"
      ]
     },
     "execution_count": 200,
     "metadata": {},
     "output_type": "execute_result"
    }
   ],
   "source": [
    "submission.head()"
   ]
  },
  {
   "cell_type": "markdown",
   "metadata": {},
   "source": [
    "# Submission"
   ]
  },
  {
   "cell_type": "code",
   "execution_count": 201,
   "metadata": {},
   "outputs": [],
   "source": [
    "# Finally, we make our submission \n",
    "submission.to_csv('Feed_Forward_model.csv', index=False)"
   ]
  },
  {
   "cell_type": "code",
   "execution_count": 202,
   "metadata": {},
   "outputs": [
    {
     "data": {
      "text/plain": [
       "(28000, 2)"
      ]
     },
     "execution_count": 202,
     "metadata": {},
     "output_type": "execute_result"
    }
   ],
   "source": [
    "# Check the sabe (should be (28000,2))\n",
    "submission.shape"
   ]
  },
  {
   "cell_type": "code",
   "execution_count": 203,
   "metadata": {},
   "outputs": [
    {
     "data": {
      "text/html": [
       "<div>\n",
       "<style scoped>\n",
       "    .dataframe tbody tr th:only-of-type {\n",
       "        vertical-align: middle;\n",
       "    }\n",
       "\n",
       "    .dataframe tbody tr th {\n",
       "        vertical-align: top;\n",
       "    }\n",
       "\n",
       "    .dataframe thead th {\n",
       "        text-align: right;\n",
       "    }\n",
       "</style>\n",
       "<table border=\"1\" class=\"dataframe\">\n",
       "  <thead>\n",
       "    <tr style=\"text-align: right;\">\n",
       "      <th></th>\n",
       "      <th>ImageId</th>\n",
       "      <th>Label</th>\n",
       "    </tr>\n",
       "  </thead>\n",
       "  <tbody>\n",
       "    <tr>\n",
       "      <th>0</th>\n",
       "      <td>1</td>\n",
       "      <td>2</td>\n",
       "    </tr>\n",
       "    <tr>\n",
       "      <th>1</th>\n",
       "      <td>2</td>\n",
       "      <td>0</td>\n",
       "    </tr>\n",
       "    <tr>\n",
       "      <th>2</th>\n",
       "      <td>3</td>\n",
       "      <td>3</td>\n",
       "    </tr>\n",
       "    <tr>\n",
       "      <th>3</th>\n",
       "      <td>4</td>\n",
       "      <td>7</td>\n",
       "    </tr>\n",
       "    <tr>\n",
       "      <th>4</th>\n",
       "      <td>5</td>\n",
       "      <td>3</td>\n",
       "    </tr>\n",
       "  </tbody>\n",
       "</table>\n",
       "</div>"
      ],
      "text/plain": [
       "   ImageId  Label\n",
       "0        1      2\n",
       "1        2      0\n",
       "2        3      3\n",
       "3        4      7\n",
       "4        5      3"
      ]
     },
     "execution_count": 203,
     "metadata": {},
     "output_type": "execute_result"
    }
   ],
   "source": [
    "submission.head()"
   ]
  },
  {
   "cell_type": "markdown",
   "metadata": {},
   "source": [
    "# Done!"
   ]
  }
 ],
 "metadata": {
  "kernelspec": {
   "display_name": "Python 3",
   "language": "python",
   "name": "python3"
  },
  "language_info": {
   "codemirror_mode": {
    "name": "ipython",
    "version": 3
   },
   "file_extension": ".py",
   "mimetype": "text/x-python",
   "name": "python",
   "nbconvert_exporter": "python",
   "pygments_lexer": "ipython3",
   "version": "3.7.1"
  }
 },
 "nbformat": 4,
 "nbformat_minor": 2
}
