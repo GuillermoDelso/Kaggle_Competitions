{
 "cells": [
  {
   "cell_type": "markdown",
   "metadata": {},
   "source": [
    "# Digit Recognition with a Convolutional Neural Network\n",
    "\n",
    "---"
   ]
  },
  {
   "cell_type": "markdown",
   "metadata": {},
   "source": [
    "### Import the necessary packages"
   ]
  },
  {
   "cell_type": "code",
   "execution_count": 24,
   "metadata": {},
   "outputs": [],
   "source": [
    "import numpy as np\n",
    "import matplotlib.pyplot as plt\n",
    "\n",
    "# For reproducibility\n",
    "np.random.seed(42)\n",
    "\n",
    "from tensorflow.python.keras.models import Sequential\n",
    "from tensorflow.python.keras.layers import Dense, Flatten, Conv2D, MaxPooling2D\n",
    "from tensorflow.python.keras import utils\n",
    "\n",
    "from sklearn.model_selection import train_test_split\n",
    "from sklearn.preprocessing import StandardScaler\n",
    "\n",
    "import pandas as pd\n",
    "\n",
    "import keras\n",
    "from keras.utils import to_categorical\n",
    "\n",
    "\n",
    "%matplotlib inline"
   ]
  },
  {
   "cell_type": "code",
   "execution_count": 25,
   "metadata": {},
   "outputs": [
    {
     "data": {
      "text/html": [
       "<div>\n",
       "<style scoped>\n",
       "    .dataframe tbody tr th:only-of-type {\n",
       "        vertical-align: middle;\n",
       "    }\n",
       "\n",
       "    .dataframe tbody tr th {\n",
       "        vertical-align: top;\n",
       "    }\n",
       "\n",
       "    .dataframe thead th {\n",
       "        text-align: right;\n",
       "    }\n",
       "</style>\n",
       "<table border=\"1\" class=\"dataframe\">\n",
       "  <thead>\n",
       "    <tr style=\"text-align: right;\">\n",
       "      <th></th>\n",
       "      <th>label</th>\n",
       "      <th>pixel0</th>\n",
       "      <th>pixel1</th>\n",
       "      <th>pixel2</th>\n",
       "      <th>pixel3</th>\n",
       "      <th>pixel4</th>\n",
       "      <th>pixel5</th>\n",
       "      <th>pixel6</th>\n",
       "      <th>pixel7</th>\n",
       "      <th>pixel8</th>\n",
       "      <th>...</th>\n",
       "      <th>pixel774</th>\n",
       "      <th>pixel775</th>\n",
       "      <th>pixel776</th>\n",
       "      <th>pixel777</th>\n",
       "      <th>pixel778</th>\n",
       "      <th>pixel779</th>\n",
       "      <th>pixel780</th>\n",
       "      <th>pixel781</th>\n",
       "      <th>pixel782</th>\n",
       "      <th>pixel783</th>\n",
       "    </tr>\n",
       "  </thead>\n",
       "  <tbody>\n",
       "    <tr>\n",
       "      <th>0</th>\n",
       "      <td>1</td>\n",
       "      <td>0</td>\n",
       "      <td>0</td>\n",
       "      <td>0</td>\n",
       "      <td>0</td>\n",
       "      <td>0</td>\n",
       "      <td>0</td>\n",
       "      <td>0</td>\n",
       "      <td>0</td>\n",
       "      <td>0</td>\n",
       "      <td>...</td>\n",
       "      <td>0</td>\n",
       "      <td>0</td>\n",
       "      <td>0</td>\n",
       "      <td>0</td>\n",
       "      <td>0</td>\n",
       "      <td>0</td>\n",
       "      <td>0</td>\n",
       "      <td>0</td>\n",
       "      <td>0</td>\n",
       "      <td>0</td>\n",
       "    </tr>\n",
       "    <tr>\n",
       "      <th>1</th>\n",
       "      <td>0</td>\n",
       "      <td>0</td>\n",
       "      <td>0</td>\n",
       "      <td>0</td>\n",
       "      <td>0</td>\n",
       "      <td>0</td>\n",
       "      <td>0</td>\n",
       "      <td>0</td>\n",
       "      <td>0</td>\n",
       "      <td>0</td>\n",
       "      <td>...</td>\n",
       "      <td>0</td>\n",
       "      <td>0</td>\n",
       "      <td>0</td>\n",
       "      <td>0</td>\n",
       "      <td>0</td>\n",
       "      <td>0</td>\n",
       "      <td>0</td>\n",
       "      <td>0</td>\n",
       "      <td>0</td>\n",
       "      <td>0</td>\n",
       "    </tr>\n",
       "    <tr>\n",
       "      <th>2</th>\n",
       "      <td>1</td>\n",
       "      <td>0</td>\n",
       "      <td>0</td>\n",
       "      <td>0</td>\n",
       "      <td>0</td>\n",
       "      <td>0</td>\n",
       "      <td>0</td>\n",
       "      <td>0</td>\n",
       "      <td>0</td>\n",
       "      <td>0</td>\n",
       "      <td>...</td>\n",
       "      <td>0</td>\n",
       "      <td>0</td>\n",
       "      <td>0</td>\n",
       "      <td>0</td>\n",
       "      <td>0</td>\n",
       "      <td>0</td>\n",
       "      <td>0</td>\n",
       "      <td>0</td>\n",
       "      <td>0</td>\n",
       "      <td>0</td>\n",
       "    </tr>\n",
       "    <tr>\n",
       "      <th>3</th>\n",
       "      <td>4</td>\n",
       "      <td>0</td>\n",
       "      <td>0</td>\n",
       "      <td>0</td>\n",
       "      <td>0</td>\n",
       "      <td>0</td>\n",
       "      <td>0</td>\n",
       "      <td>0</td>\n",
       "      <td>0</td>\n",
       "      <td>0</td>\n",
       "      <td>...</td>\n",
       "      <td>0</td>\n",
       "      <td>0</td>\n",
       "      <td>0</td>\n",
       "      <td>0</td>\n",
       "      <td>0</td>\n",
       "      <td>0</td>\n",
       "      <td>0</td>\n",
       "      <td>0</td>\n",
       "      <td>0</td>\n",
       "      <td>0</td>\n",
       "    </tr>\n",
       "    <tr>\n",
       "      <th>4</th>\n",
       "      <td>0</td>\n",
       "      <td>0</td>\n",
       "      <td>0</td>\n",
       "      <td>0</td>\n",
       "      <td>0</td>\n",
       "      <td>0</td>\n",
       "      <td>0</td>\n",
       "      <td>0</td>\n",
       "      <td>0</td>\n",
       "      <td>0</td>\n",
       "      <td>...</td>\n",
       "      <td>0</td>\n",
       "      <td>0</td>\n",
       "      <td>0</td>\n",
       "      <td>0</td>\n",
       "      <td>0</td>\n",
       "      <td>0</td>\n",
       "      <td>0</td>\n",
       "      <td>0</td>\n",
       "      <td>0</td>\n",
       "      <td>0</td>\n",
       "    </tr>\n",
       "  </tbody>\n",
       "</table>\n",
       "<p>5 rows × 785 columns</p>\n",
       "</div>"
      ],
      "text/plain": [
       "   label  pixel0  pixel1  pixel2  pixel3  pixel4  pixel5  pixel6  pixel7  \\\n",
       "0      1       0       0       0       0       0       0       0       0   \n",
       "1      0       0       0       0       0       0       0       0       0   \n",
       "2      1       0       0       0       0       0       0       0       0   \n",
       "3      4       0       0       0       0       0       0       0       0   \n",
       "4      0       0       0       0       0       0       0       0       0   \n",
       "\n",
       "   pixel8  ...  pixel774  pixel775  pixel776  pixel777  pixel778  pixel779  \\\n",
       "0       0  ...         0         0         0         0         0         0   \n",
       "1       0  ...         0         0         0         0         0         0   \n",
       "2       0  ...         0         0         0         0         0         0   \n",
       "3       0  ...         0         0         0         0         0         0   \n",
       "4       0  ...         0         0         0         0         0         0   \n",
       "\n",
       "   pixel780  pixel781  pixel782  pixel783  \n",
       "0         0         0         0         0  \n",
       "1         0         0         0         0  \n",
       "2         0         0         0         0  \n",
       "3         0         0         0         0  \n",
       "4         0         0         0         0  \n",
       "\n",
       "[5 rows x 785 columns]"
      ]
     },
     "execution_count": 25,
     "metadata": {},
     "output_type": "execute_result"
    }
   ],
   "source": [
    "# 1.- Load the training data (train.csv) from Kaggle\n",
    "data = pd.read_csv('train.csv')\n",
    "data.head()"
   ]
  },
  {
   "cell_type": "code",
   "execution_count": 26,
   "metadata": {},
   "outputs": [
    {
     "data": {
      "text/plain": [
       "(42000, 785)"
      ]
     },
     "execution_count": 26,
     "metadata": {},
     "output_type": "execute_result"
    }
   ],
   "source": [
    "# Check the shape\n",
    "data.shape"
   ]
  },
  {
   "cell_type": "code",
   "execution_count": 27,
   "metadata": {},
   "outputs": [],
   "source": [
    "# 2.- Setup X and y (feature matrix and target vector)\n",
    "X = data.drop('label', axis=1)\n",
    "y = data['label'].astype('int')\n",
    "\n",
    "# 3.- Split X and y into train and test subsets.\n",
    "X_train, X_test, y_train, y_test = train_test_split(X, y)\n",
    "ss = StandardScaler()\n",
    "X_train = ss.fit_transform(X_train)\n",
    "X_test = ss.transform(X_test)"
   ]
  },
  {
   "cell_type": "code",
   "execution_count": 28,
   "metadata": {},
   "outputs": [
    {
     "data": {
      "text/plain": [
       "0    1\n",
       "1    0\n",
       "2    1\n",
       "3    4\n",
       "4    0\n",
       "5    0\n",
       "6    7\n",
       "7    3\n",
       "8    5\n",
       "9    3\n",
       "Name: label, dtype: int64"
      ]
     },
     "execution_count": 28,
     "metadata": {},
     "output_type": "execute_result"
    }
   ],
   "source": [
    "# Check the y-values (the 'labels' column with numbers)\n",
    "y[:10]"
   ]
  },
  {
   "cell_type": "code",
   "execution_count": 29,
   "metadata": {},
   "outputs": [],
   "source": [
    "# Reshape the x_train and x_test for a 4-dimensions sequential neural network\n",
    "X_train = X_train.reshape((X_train.shape[0], 28, 28, 1))#.astype('float32')\n",
    "X_test = X_test.reshape((X_test.shape[0], 28, 28, 1))#.astype('float32')"
   ]
  },
  {
   "cell_type": "code",
   "execution_count": 30,
   "metadata": {},
   "outputs": [
    {
     "data": {
      "text/plain": [
       "(10500, 28, 28, 1)"
      ]
     },
     "execution_count": 30,
     "metadata": {},
     "output_type": "execute_result"
    }
   ],
   "source": [
    "# Check the shape again (needs to be 4-dimensions)\n",
    "X_test.shape"
   ]
  },
  {
   "cell_type": "code",
   "execution_count": 31,
   "metadata": {},
   "outputs": [],
   "source": [
    "# 4.- Preprocess your data\n",
    "# - When dealing with image data, you need to normalize your X by dividing each value by the max value of a pixel (255).\n",
    "X_train /= 255\n",
    "X_test /= 255\n",
    "\n",
    "X_train = X_train.astype('float32')\n",
    "X_test = X_test.astype('float32')\n",
    "\n",
    "\n",
    "# - Since this is a multiclass classification problem, keras needs y to be a one-hot encoded matrix\n",
    "y_train = to_categorical(y_train, 10)\n",
    "y_test = to_categorical(y_test, 10)\n"
   ]
  },
  {
   "cell_type": "code",
   "execution_count": 32,
   "metadata": {},
   "outputs": [
    {
     "data": {
      "text/plain": [
       "array([[0., 0., 0., 0., 0., 0., 0., 1., 0., 0.],\n",
       "       [0., 0., 0., 0., 0., 0., 0., 0., 1., 0.],\n",
       "       [0., 0., 0., 0., 0., 1., 0., 0., 0., 0.],\n",
       "       [0., 0., 0., 0., 0., 0., 0., 0., 1., 0.],\n",
       "       [0., 0., 0., 0., 1., 0., 0., 0., 0., 0.],\n",
       "       [1., 0., 0., 0., 0., 0., 0., 0., 0., 0.],\n",
       "       [0., 0., 0., 0., 0., 0., 1., 0., 0., 0.],\n",
       "       [1., 0., 0., 0., 0., 0., 0., 0., 0., 0.],\n",
       "       [0., 1., 0., 0., 0., 0., 0., 0., 0., 0.],\n",
       "       [0., 0., 0., 0., 0., 0., 1., 0., 0., 0.]], dtype=float32)"
      ]
     },
     "execution_count": 32,
     "metadata": {},
     "output_type": "execute_result"
    }
   ],
   "source": [
    "# Check the one-hot encoded matrix\n",
    "y_train[:10]"
   ]
  },
  {
   "cell_type": "markdown",
   "metadata": {},
   "source": [
    "# The (CNN) Model "
   ]
  },
  {
   "cell_type": "code",
   "execution_count": 33,
   "metadata": {},
   "outputs": [],
   "source": [
    "# 5.- Create your network\n",
    "# - Remember that for multi-class classification you need a softamx activation function on the output layer.\n",
    "# - We should consider using regularization or dropout to improve performance.\n",
    "\n",
    "from keras import regularizers\n",
    "cnn_model = Sequential()\n",
    "#n_input = X_train.shape[1]\n"
   ]
  },
  {
   "cell_type": "code",
   "execution_count": 34,
   "metadata": {},
   "outputs": [],
   "source": [
    "cnn_model.add(Conv2D(filters = 6,            # number of filters\n",
    "                     kernel_size = (3,3),        # height/width of filter\n",
    "                     activation='relu',      # activation function \n",
    "                     input_shape=(28,28,1))) # shape of input (image)\n",
    "\n",
    "cnn_model.add(MaxPooling2D(pool_size=(2,2))) # dimensions of region of pooling\n",
    "\n",
    "cnn_model.add(Conv2D(16,\n",
    "                     kernel_size = (3,3),\n",
    "                     activation='relu'))\n",
    "\n",
    "cnn_model.add(MaxPooling2D(pool_size=(2,2)))\n",
    "\n",
    "cnn_model.add(Flatten())\n",
    "\n",
    "cnn_model.add(Dense(128,\n",
    "                    activation='relu'))  #  input_dim = n_input,\n",
    "cnn_model.add(Dense(10, \n",
    "                    activation='softmax'))\n",
    "\n",
    "# Compile model\n",
    "cnn_model.compile(loss='categorical_crossentropy',\n",
    "                  optimizer='adam',\n",
    "                  metrics=['accuracy'])"
   ]
  },
  {
   "cell_type": "code",
   "execution_count": 36,
   "metadata": {
    "scrolled": true
   },
   "outputs": [
    {
     "name": "stdout",
     "output_type": "stream",
     "text": [
      "Train on 31500 samples, validate on 10500 samples\n",
      "Epoch 1/100\n",
      "31500/31500 [==============================] - 4s 112us/sample - loss: 0.2648 - accuracy: 0.9231 - val_loss: 0.2514 - val_accuracy: 0.9250\n",
      "Epoch 2/100\n",
      "31500/31500 [==============================] - 3s 108us/sample - loss: 0.2275 - accuracy: 0.9338 - val_loss: 0.2190 - val_accuracy: 0.9349\n",
      "Epoch 3/100\n",
      "31500/31500 [==============================] - 4s 112us/sample - loss: 0.2010 - accuracy: 0.9396 - val_loss: 0.1935 - val_accuracy: 0.9429\n",
      "Epoch 4/100\n",
      "31500/31500 [==============================] - 4s 113us/sample - loss: 0.1768 - accuracy: 0.9476 - val_loss: 0.1747 - val_accuracy: 0.9490\n",
      "Epoch 5/100\n",
      "31500/31500 [==============================] - 4s 116us/sample - loss: 0.1586 - accuracy: 0.9519 - val_loss: 0.1557 - val_accuracy: 0.9526\n",
      "Epoch 6/100\n",
      "31500/31500 [==============================] - 3s 104us/sample - loss: 0.1471 - accuracy: 0.9547 - val_loss: 0.1544 - val_accuracy: 0.9546\n",
      "Epoch 7/100\n",
      "31500/31500 [==============================] - 3s 98us/sample - loss: 0.1340 - accuracy: 0.9596 - val_loss: 0.1468 - val_accuracy: 0.9556\n",
      "Epoch 8/100\n",
      "31500/31500 [==============================] - 4s 113us/sample - loss: 0.1248 - accuracy: 0.9614 - val_loss: 0.1244 - val_accuracy: 0.9629\n",
      "Epoch 9/100\n",
      "31500/31500 [==============================] - 4s 113us/sample - loss: 0.1150 - accuracy: 0.9642 - val_loss: 0.1151 - val_accuracy: 0.9643\n",
      "Epoch 10/100\n",
      "31500/31500 [==============================] - 4s 112us/sample - loss: 0.1059 - accuracy: 0.9668 - val_loss: 0.1080 - val_accuracy: 0.9673\n",
      "Epoch 11/100\n",
      "31500/31500 [==============================] - 4s 115us/sample - loss: 0.0992 - accuracy: 0.9692 - val_loss: 0.1133 - val_accuracy: 0.9657\n",
      "Epoch 12/100\n",
      "31500/31500 [==============================] - 4s 113us/sample - loss: 0.0942 - accuracy: 0.9707 - val_loss: 0.0988 - val_accuracy: 0.9694\n",
      "Epoch 13/100\n",
      "31500/31500 [==============================] - 4s 115us/sample - loss: 0.0885 - accuracy: 0.9726 - val_loss: 0.0956 - val_accuracy: 0.9698\n",
      "Epoch 14/100\n",
      "31500/31500 [==============================] - 4s 113us/sample - loss: 0.0830 - accuracy: 0.9743 - val_loss: 0.0940 - val_accuracy: 0.9716\n",
      "Epoch 15/100\n",
      "31500/31500 [==============================] - 4s 114us/sample - loss: 0.0773 - accuracy: 0.9754 - val_loss: 0.0940 - val_accuracy: 0.9690\n",
      "Epoch 16/100\n",
      "31500/31500 [==============================] - 4s 115us/sample - loss: 0.0742 - accuracy: 0.9768 - val_loss: 0.0826 - val_accuracy: 0.9752\n",
      "Epoch 17/100\n",
      "31500/31500 [==============================] - 4s 113us/sample - loss: 0.0702 - accuracy: 0.9786 - val_loss: 0.0806 - val_accuracy: 0.9740\n",
      "Epoch 18/100\n",
      "31500/31500 [==============================] - 4s 113us/sample - loss: 0.0662 - accuracy: 0.9795 - val_loss: 0.0822 - val_accuracy: 0.9743\n",
      "Epoch 19/100\n",
      "31500/31500 [==============================] - 3s 108us/sample - loss: 0.0641 - accuracy: 0.9798 - val_loss: 0.0743 - val_accuracy: 0.9770\n",
      "Epoch 20/100\n",
      "31500/31500 [==============================] - 4s 117us/sample - loss: 0.0625 - accuracy: 0.9798 - val_loss: 0.0799 - val_accuracy: 0.9761\n",
      "Epoch 21/100\n",
      "31500/31500 [==============================] - 4s 116us/sample - loss: 0.0590 - accuracy: 0.9821 - val_loss: 0.0729 - val_accuracy: 0.9772\n",
      "Epoch 22/100\n",
      "31500/31500 [==============================] - 4s 118us/sample - loss: 0.0556 - accuracy: 0.9829 - val_loss: 0.0725 - val_accuracy: 0.9774\n",
      "Epoch 23/100\n",
      "31500/31500 [==============================] - 4s 114us/sample - loss: 0.0545 - accuracy: 0.9830 - val_loss: 0.0721 - val_accuracy: 0.9782\n",
      "Epoch 24/100\n",
      "31500/31500 [==============================] - 4s 116us/sample - loss: 0.0512 - accuracy: 0.9841 - val_loss: 0.0698 - val_accuracy: 0.9795\n",
      "Epoch 25/100\n",
      "31500/31500 [==============================] - 3s 107us/sample - loss: 0.0488 - accuracy: 0.9850 - val_loss: 0.0672 - val_accuracy: 0.9800\n",
      "Epoch 26/100\n",
      "31500/31500 [==============================] - 3s 102us/sample - loss: 0.0480 - accuracy: 0.9852 - val_loss: 0.0682 - val_accuracy: 0.9793\n",
      "Epoch 27/100\n",
      "31500/31500 [==============================] - 4s 113us/sample - loss: 0.0462 - accuracy: 0.9856 - val_loss: 0.0692 - val_accuracy: 0.9797\n",
      "Epoch 28/100\n",
      "31500/31500 [==============================] - 4s 116us/sample - loss: 0.0435 - accuracy: 0.9867 - val_loss: 0.0655 - val_accuracy: 0.9817\n",
      "Epoch 29/100\n",
      "31500/31500 [==============================] - 4s 114us/sample - loss: 0.0432 - accuracy: 0.9863 - val_loss: 0.0725 - val_accuracy: 0.9786\n",
      "Epoch 30/100\n",
      "31500/31500 [==============================] - 3s 102us/sample - loss: 0.0410 - accuracy: 0.9872 - val_loss: 0.0658 - val_accuracy: 0.9803\n",
      "Epoch 31/100\n",
      "31500/31500 [==============================] - 3s 104us/sample - loss: 0.0380 - accuracy: 0.9882 - val_loss: 0.0667 - val_accuracy: 0.9793\n",
      "Epoch 32/100\n",
      "31500/31500 [==============================] - 4s 114us/sample - loss: 0.0417 - accuracy: 0.9869 - val_loss: 0.0668 - val_accuracy: 0.9797\n",
      "Epoch 33/100\n",
      "31500/31500 [==============================] - 4s 116us/sample - loss: 0.0359 - accuracy: 0.9892 - val_loss: 0.0639 - val_accuracy: 0.9801\n",
      "Epoch 34/100\n",
      "31500/31500 [==============================] - 4s 117us/sample - loss: 0.0343 - accuracy: 0.9894 - val_loss: 0.0629 - val_accuracy: 0.9802\n",
      "Epoch 35/100\n",
      "31500/31500 [==============================] - 4s 118us/sample - loss: 0.0324 - accuracy: 0.9902 - val_loss: 0.0656 - val_accuracy: 0.9799\n",
      "Epoch 36/100\n",
      "31500/31500 [==============================] - 4s 115us/sample - loss: 0.0322 - accuracy: 0.9901 - val_loss: 0.0624 - val_accuracy: 0.9814\n",
      "Epoch 37/100\n",
      "31500/31500 [==============================] - 4s 117us/sample - loss: 0.0306 - accuracy: 0.9908 - val_loss: 0.0632 - val_accuracy: 0.9811\n",
      "Epoch 38/100\n",
      "31500/31500 [==============================] - 4s 115us/sample - loss: 0.0297 - accuracy: 0.9906 - val_loss: 0.0704 - val_accuracy: 0.9792\n",
      "Epoch 39/100\n",
      "31500/31500 [==============================] - 4s 115us/sample - loss: 0.0291 - accuracy: 0.9910 - val_loss: 0.0621 - val_accuracy: 0.9810\n",
      "Epoch 40/100\n",
      "31500/31500 [==============================] - 4s 118us/sample - loss: 0.0274 - accuracy: 0.9917 - val_loss: 0.0680 - val_accuracy: 0.9804\n",
      "Epoch 41/100\n",
      "31500/31500 [==============================] - 4s 121us/sample - loss: 0.0260 - accuracy: 0.9922 - val_loss: 0.0723 - val_accuracy: 0.9781\n",
      "Epoch 42/100\n",
      "31500/31500 [==============================] - 4s 118us/sample - loss: 0.0329 - accuracy: 0.9898 - val_loss: 0.0665 - val_accuracy: 0.9807\n",
      "Epoch 43/100\n",
      "31500/31500 [==============================] - 4s 116us/sample - loss: 0.0240 - accuracy: 0.9932 - val_loss: 0.0656 - val_accuracy: 0.9812\n",
      "Epoch 44/100\n",
      "31500/31500 [==============================] - 4s 118us/sample - loss: 0.0276 - accuracy: 0.9915 - val_loss: 0.0699 - val_accuracy: 0.9814\n",
      "Epoch 45/100\n",
      "31500/31500 [==============================] - 4s 114us/sample - loss: 0.0225 - accuracy: 0.9934 - val_loss: 0.0642 - val_accuracy: 0.9828\n",
      "Epoch 46/100\n",
      "31500/31500 [==============================] - 4s 123us/sample - loss: 0.0217 - accuracy: 0.9936 - val_loss: 0.0687 - val_accuracy: 0.9806\n",
      "Epoch 47/100\n",
      "31500/31500 [==============================] - 4s 117us/sample - loss: 0.0219 - accuracy: 0.9934 - val_loss: 0.0696 - val_accuracy: 0.9810\n",
      "Epoch 48/100\n",
      "31500/31500 [==============================] - 4s 119us/sample - loss: 0.0198 - accuracy: 0.9944 - val_loss: 0.0681 - val_accuracy: 0.9821\n",
      "Epoch 49/100\n",
      "31500/31500 [==============================] - 4s 116us/sample - loss: 0.0202 - accuracy: 0.9936 - val_loss: 0.0661 - val_accuracy: 0.9818\n",
      "Epoch 50/100\n",
      "31500/31500 [==============================] - 4s 119us/sample - loss: 0.0185 - accuracy: 0.9944 - val_loss: 0.0684 - val_accuracy: 0.9819\n",
      "Epoch 51/100\n",
      "31500/31500 [==============================] - 4s 119us/sample - loss: 0.0174 - accuracy: 0.9951 - val_loss: 0.0688 - val_accuracy: 0.9817\n",
      "Epoch 52/100\n",
      "31500/31500 [==============================] - 4s 116us/sample - loss: 0.0161 - accuracy: 0.9954 - val_loss: 0.0672 - val_accuracy: 0.9827\n",
      "Epoch 53/100\n",
      "31500/31500 [==============================] - 4s 116us/sample - loss: 0.0157 - accuracy: 0.9956 - val_loss: 0.0715 - val_accuracy: 0.9812\n",
      "Epoch 54/100\n"
     ]
    },
    {
     "name": "stdout",
     "output_type": "stream",
     "text": [
      "31500/31500 [==============================] - 4s 112us/sample - loss: 0.0150 - accuracy: 0.9958 - val_loss: 0.0740 - val_accuracy: 0.9819\n",
      "Epoch 55/100\n",
      "31500/31500 [==============================] - 3s 110us/sample - loss: 0.0146 - accuracy: 0.9957 - val_loss: 0.0713 - val_accuracy: 0.9820\n",
      "Epoch 56/100\n",
      "31500/31500 [==============================] - 4s 112us/sample - loss: 0.0138 - accuracy: 0.9964 - val_loss: 0.0719 - val_accuracy: 0.9809\n",
      "Epoch 57/100\n",
      "31500/31500 [==============================] - 3s 110us/sample - loss: 0.0129 - accuracy: 0.9964 - val_loss: 0.0797 - val_accuracy: 0.9803\n",
      "Epoch 58/100\n",
      "31500/31500 [==============================] - 4s 114us/sample - loss: 0.0169 - accuracy: 0.9948 - val_loss: 0.0673 - val_accuracy: 0.9822\n",
      "Epoch 59/100\n",
      "31500/31500 [==============================] - 4s 113us/sample - loss: 0.0129 - accuracy: 0.9963 - val_loss: 0.0790 - val_accuracy: 0.9808\n",
      "Epoch 60/100\n",
      "31500/31500 [==============================] - 3s 110us/sample - loss: 0.0127 - accuracy: 0.9963 - val_loss: 0.0738 - val_accuracy: 0.9812\n",
      "Epoch 61/100\n",
      "31500/31500 [==============================] - 4s 113us/sample - loss: 0.0137 - accuracy: 0.9959 - val_loss: 0.0762 - val_accuracy: 0.9819\n",
      "Epoch 62/100\n",
      "31500/31500 [==============================] - 4s 112us/sample - loss: 0.0110 - accuracy: 0.9968 - val_loss: 0.0761 - val_accuracy: 0.9823\n",
      "Epoch 63/100\n",
      "31500/31500 [==============================] - 3s 110us/sample - loss: 0.0098 - accuracy: 0.9975 - val_loss: 0.0757 - val_accuracy: 0.9827\n",
      "Epoch 64/100\n",
      "31500/31500 [==============================] - 4s 112us/sample - loss: 0.0103 - accuracy: 0.9970 - val_loss: 0.0823 - val_accuracy: 0.9810\n",
      "Epoch 65/100\n",
      "31500/31500 [==============================] - 4s 112us/sample - loss: 0.0086 - accuracy: 0.9980 - val_loss: 0.0808 - val_accuracy: 0.9821\n",
      "Epoch 66/100\n",
      "31500/31500 [==============================] - 4s 114us/sample - loss: 0.0086 - accuracy: 0.9975 - val_loss: 0.0825 - val_accuracy: 0.9814\n",
      "Epoch 67/100\n",
      "31500/31500 [==============================] - 4s 113us/sample - loss: 0.0080 - accuracy: 0.9978 - val_loss: 0.0781 - val_accuracy: 0.9821\n",
      "Epoch 68/100\n",
      "31500/31500 [==============================] - 3s 111us/sample - loss: 0.0073 - accuracy: 0.9985 - val_loss: 0.0769 - val_accuracy: 0.9827\n",
      "Epoch 69/100\n",
      "31500/31500 [==============================] - 3s 111us/sample - loss: 0.0071 - accuracy: 0.9983 - val_loss: 0.0788 - val_accuracy: 0.9822\n",
      "Epoch 70/100\n",
      "31500/31500 [==============================] - 3s 110us/sample - loss: 0.0067 - accuracy: 0.9986 - val_loss: 0.0815 - val_accuracy: 0.9825\n",
      "Epoch 71/100\n",
      "31500/31500 [==============================] - 4s 114us/sample - loss: 0.0062 - accuracy: 0.9985 - val_loss: 0.0794 - val_accuracy: 0.9836\n",
      "Epoch 72/100\n",
      "31500/31500 [==============================] - 3s 111us/sample - loss: 0.0065 - accuracy: 0.9986 - val_loss: 0.0971 - val_accuracy: 0.9813\n",
      "Epoch 73/100\n",
      "31500/31500 [==============================] - 4s 120us/sample - loss: 0.0080 - accuracy: 0.9977 - val_loss: 0.0794 - val_accuracy: 0.9824\n",
      "Epoch 74/100\n",
      "31500/31500 [==============================] - 4s 120us/sample - loss: 0.0069 - accuracy: 0.9982 - val_loss: 0.0805 - val_accuracy: 0.9826\n",
      "Epoch 75/100\n",
      "31500/31500 [==============================] - 4s 115us/sample - loss: 0.0052 - accuracy: 0.9987 - val_loss: 0.0802 - val_accuracy: 0.9834\n",
      "Epoch 76/100\n",
      "31500/31500 [==============================] - 4s 114us/sample - loss: 0.0053 - accuracy: 0.9985 - val_loss: 0.0801 - val_accuracy: 0.9828\n",
      "Epoch 77/100\n",
      "31500/31500 [==============================] - 4s 117us/sample - loss: 0.0041 - accuracy: 0.9992 - val_loss: 0.0826 - val_accuracy: 0.9822\n",
      "Epoch 78/100\n",
      "31500/31500 [==============================] - 4s 116us/sample - loss: 0.0040 - accuracy: 0.9992 - val_loss: 0.0805 - val_accuracy: 0.9842\n",
      "Epoch 79/100\n",
      "31500/31500 [==============================] - 4s 118us/sample - loss: 0.0046 - accuracy: 0.9990 - val_loss: 0.0860 - val_accuracy: 0.9834\n",
      "Epoch 80/100\n",
      "31500/31500 [==============================] - 4s 116us/sample - loss: 0.0041 - accuracy: 0.9990 - val_loss: 0.0903 - val_accuracy: 0.9822\n",
      "Epoch 81/100\n",
      "31500/31500 [==============================] - 4s 116us/sample - loss: 0.0090 - accuracy: 0.9972 - val_loss: 0.0991 - val_accuracy: 0.9796\n",
      "Epoch 82/100\n",
      "31500/31500 [==============================] - 4s 116us/sample - loss: 0.0084 - accuracy: 0.9972 - val_loss: 0.0881 - val_accuracy: 0.9823\n",
      "Epoch 83/100\n",
      "31500/31500 [==============================] - 4s 118us/sample - loss: 0.0044 - accuracy: 0.9989 - val_loss: 0.0876 - val_accuracy: 0.9828\n",
      "Epoch 84/100\n",
      "31500/31500 [==============================] - 4s 112us/sample - loss: 0.0037 - accuracy: 0.9991 - val_loss: 0.0926 - val_accuracy: 0.9834\n",
      "Epoch 85/100\n",
      "31500/31500 [==============================] - 4s 114us/sample - loss: 0.0027 - accuracy: 0.9997 - val_loss: 0.0917 - val_accuracy: 0.9827\n",
      "Epoch 86/100\n",
      "31500/31500 [==============================] - 4s 116us/sample - loss: 0.0023 - accuracy: 0.9996 - val_loss: 0.0907 - val_accuracy: 0.9830\n",
      "Epoch 87/100\n",
      "31500/31500 [==============================] - 4s 116us/sample - loss: 0.0020 - accuracy: 0.9997 - val_loss: 0.0959 - val_accuracy: 0.9830\n",
      "Epoch 88/100\n",
      "31500/31500 [==============================] - 4s 122us/sample - loss: 0.0024 - accuracy: 0.9996 - val_loss: 0.0980 - val_accuracy: 0.9829\n",
      "Epoch 89/100\n",
      "31500/31500 [==============================] - 4s 118us/sample - loss: 0.0019 - accuracy: 0.9997 - val_loss: 0.0968 - val_accuracy: 0.9824\n",
      "Epoch 90/100\n",
      "31500/31500 [==============================] - 4s 115us/sample - loss: 0.0052 - accuracy: 0.9984 - val_loss: 0.0984 - val_accuracy: 0.9822\n",
      "Epoch 91/100\n",
      "31500/31500 [==============================] - 4s 116us/sample - loss: 0.0056 - accuracy: 0.9981 - val_loss: 0.0973 - val_accuracy: 0.9822\n",
      "Epoch 92/100\n",
      "31500/31500 [==============================] - 3s 104us/sample - loss: 0.0025 - accuracy: 0.9996 - val_loss: 0.1001 - val_accuracy: 0.9834\n",
      "Epoch 93/100\n",
      "31500/31500 [==============================] - 3s 103us/sample - loss: 0.0070 - accuracy: 0.9976 - val_loss: 0.1036 - val_accuracy: 0.9828\n",
      "Epoch 94/100\n",
      "31500/31500 [==============================] - 3s 105us/sample - loss: 0.0027 - accuracy: 0.9993 - val_loss: 0.1033 - val_accuracy: 0.9834\n",
      "Epoch 95/100\n",
      "31500/31500 [==============================] - 3s 105us/sample - loss: 0.0023 - accuracy: 0.9995 - val_loss: 0.0937 - val_accuracy: 0.9824\n",
      "Epoch 96/100\n",
      "31500/31500 [==============================] - 4s 119us/sample - loss: 0.0014 - accuracy: 0.9998 - val_loss: 0.0937 - val_accuracy: 0.9831\n",
      "Epoch 97/100\n",
      "31500/31500 [==============================] - 4s 117us/sample - loss: 0.0022 - accuracy: 0.9994 - val_loss: 0.0962 - val_accuracy: 0.9830\n",
      "Epoch 98/100\n",
      "31500/31500 [==============================] - 4s 113us/sample - loss: 0.0020 - accuracy: 0.9996 - val_loss: 0.0921 - val_accuracy: 0.9831\n",
      "Epoch 99/100\n",
      "31500/31500 [==============================] - 3s 108us/sample - loss: 9.1264e-04 - accuracy: 0.9999 - val_loss: 0.0942 - val_accuracy: 0.9834\n",
      "Epoch 100/100\n",
      "31500/31500 [==============================] - 4s 116us/sample - loss: 9.7702e-04 - accuracy: 0.9999 - val_loss: 0.0963 - val_accuracy: 0.9840\n"
     ]
    }
   ],
   "source": [
    "# Fit model on training data\n",
    "history = cnn_model.fit(X_train,\n",
    "                        y_train,\n",
    "                        batch_size=256,\n",
    "                        validation_data=(X_test, y_test),\n",
    "                        epochs=100,\n",
    "                        verbose=1)"
   ]
  },
  {
   "cell_type": "code",
   "execution_count": 37,
   "metadata": {},
   "outputs": [
    {
     "name": "stdout",
     "output_type": "stream",
     "text": [
      "Model: \"sequential_4\"\n",
      "_________________________________________________________________\n",
      "Layer (type)                 Output Shape              Param #   \n",
      "=================================================================\n",
      "conv2d_7 (Conv2D)            (None, 26, 26, 6)         60        \n",
      "_________________________________________________________________\n",
      "max_pooling2d_7 (MaxPooling2 (None, 13, 13, 6)         0         \n",
      "_________________________________________________________________\n",
      "conv2d_8 (Conv2D)            (None, 11, 11, 16)        880       \n",
      "_________________________________________________________________\n",
      "max_pooling2d_8 (MaxPooling2 (None, 5, 5, 16)          0         \n",
      "_________________________________________________________________\n",
      "flatten_3 (Flatten)          (None, 400)               0         \n",
      "_________________________________________________________________\n",
      "dense_6 (Dense)              (None, 128)               51328     \n",
      "_________________________________________________________________\n",
      "dense_7 (Dense)              (None, 10)                1290      \n",
      "=================================================================\n",
      "Total params: 53,558\n",
      "Trainable params: 53,558\n",
      "Non-trainable params: 0\n",
      "_________________________________________________________________\n"
     ]
    }
   ],
   "source": [
    "cnn_model.summary()"
   ]
  },
  {
   "cell_type": "code",
   "execution_count": 38,
   "metadata": {},
   "outputs": [
    {
     "data": {
      "image/png": "[encoded data removed]",
      "text/plain": [
       "<Figure size 864x576 with 1 Axes>"
      ]
     },
     "metadata": {
      "needs_background": "light"
     },
     "output_type": "display_data"
    }
   ],
   "source": [
    "# Check out our train loss and test loss over epochs.\n",
    "train_loss = history.history['loss']\n",
    "test_loss = history.history['val_loss']\n",
    "\n",
    "# Set figure size.\n",
    "plt.figure(figsize=(12, 8))\n",
    "\n",
    "# Generate line plot of training, testing loss over epochs.\n",
    "plt.plot(train_loss, label='Training Loss', color='#185fad')\n",
    "plt.plot(test_loss, label='Testing Loss', color='orange')\n",
    "\n",
    "# Set title\n",
    "plt.title('Training and Testing Loss by Epoch', fontsize = 25)\n",
    "plt.xlabel('Epoch', fontsize = 18)\n",
    "plt.ylabel('Categorical Crossentropy', fontsize = 18)\n",
    "plt.xticks([0, 1, 2, 3, 4], [1, 2, 3, 4, 5])\n",
    "\n",
    "plt.legend(fontsize = 18);"
   ]
  },
  {
   "cell_type": "code",
   "execution_count": 39,
   "metadata": {},
   "outputs": [],
   "source": [
    "# Note: we can see that there has been strong overfitting, which results in a less-accurate test-score than train-score. \n",
    "# This will also affect our predictions"
   ]
  },
  {
   "cell_type": "code",
   "execution_count": 40,
   "metadata": {},
   "outputs": [
    {
     "name": "stdout",
     "output_type": "stream",
     "text": [
      "10500/10500 [==============================] - 1s 83us/sample - loss: 0.0963 - accuracy: 0.9840\n"
     ]
    }
   ],
   "source": [
    "# Evaluate model on test data.\n",
    "cnn_score = cnn_model.evaluate(X_test,\n",
    "                               y_test,\n",
    "                               verbose=1)\n",
    "\n",
    "cnn_labels = cnn_model.metrics_names"
   ]
  },
  {
   "cell_type": "code",
   "execution_count": 42,
   "metadata": {},
   "outputs": [
    {
     "name": "stdout",
     "output_type": "stream",
     "text": [
      "CNN loss  : 0.09633603734728818\n",
      "CNN accuracy   : 0.984000027179718\n"
     ]
    }
   ],
   "source": [
    "# Compare CNN and FFNN models.\n",
    "print(f'CNN {cnn_labels[0]}  : {cnn_score[0]}')\n",
    "print(f'CNN {cnn_labels[1]}   : {cnn_score[1]}')"
   ]
  },
  {
   "cell_type": "markdown",
   "metadata": {},
   "source": [
    "# Preparing Submission (for Kaggle competition)"
   ]
  },
  {
   "cell_type": "code",
   "execution_count": 43,
   "metadata": {
    "scrolled": true
   },
   "outputs": [
    {
     "data": {
      "text/html": [
       "<div>\n",
       "<style scoped>\n",
       "    .dataframe tbody tr th:only-of-type {\n",
       "        vertical-align: middle;\n",
       "    }\n",
       "\n",
       "    .dataframe tbody tr th {\n",
       "        vertical-align: top;\n",
       "    }\n",
       "\n",
       "    .dataframe thead th {\n",
       "        text-align: right;\n",
       "    }\n",
       "</style>\n",
       "<table border=\"1\" class=\"dataframe\">\n",
       "  <thead>\n",
       "    <tr style=\"text-align: right;\">\n",
       "      <th></th>\n",
       "      <th>pixel0</th>\n",
       "      <th>pixel1</th>\n",
       "      <th>pixel2</th>\n",
       "      <th>pixel3</th>\n",
       "      <th>pixel4</th>\n",
       "      <th>pixel5</th>\n",
       "      <th>pixel6</th>\n",
       "      <th>pixel7</th>\n",
       "      <th>pixel8</th>\n",
       "      <th>pixel9</th>\n",
       "      <th>...</th>\n",
       "      <th>pixel774</th>\n",
       "      <th>pixel775</th>\n",
       "      <th>pixel776</th>\n",
       "      <th>pixel777</th>\n",
       "      <th>pixel778</th>\n",
       "      <th>pixel779</th>\n",
       "      <th>pixel780</th>\n",
       "      <th>pixel781</th>\n",
       "      <th>pixel782</th>\n",
       "      <th>pixel783</th>\n",
       "    </tr>\n",
       "  </thead>\n",
       "  <tbody>\n",
       "    <tr>\n",
       "      <th>0</th>\n",
       "      <td>0</td>\n",
       "      <td>0</td>\n",
       "      <td>0</td>\n",
       "      <td>0</td>\n",
       "      <td>0</td>\n",
       "      <td>0</td>\n",
       "      <td>0</td>\n",
       "      <td>0</td>\n",
       "      <td>0</td>\n",
       "      <td>0</td>\n",
       "      <td>...</td>\n",
       "      <td>0</td>\n",
       "      <td>0</td>\n",
       "      <td>0</td>\n",
       "      <td>0</td>\n",
       "      <td>0</td>\n",
       "      <td>0</td>\n",
       "      <td>0</td>\n",
       "      <td>0</td>\n",
       "      <td>0</td>\n",
       "      <td>0</td>\n",
       "    </tr>\n",
       "    <tr>\n",
       "      <th>1</th>\n",
       "      <td>0</td>\n",
       "      <td>0</td>\n",
       "      <td>0</td>\n",
       "      <td>0</td>\n",
       "      <td>0</td>\n",
       "      <td>0</td>\n",
       "      <td>0</td>\n",
       "      <td>0</td>\n",
       "      <td>0</td>\n",
       "      <td>0</td>\n",
       "      <td>...</td>\n",
       "      <td>0</td>\n",
       "      <td>0</td>\n",
       "      <td>0</td>\n",
       "      <td>0</td>\n",
       "      <td>0</td>\n",
       "      <td>0</td>\n",
       "      <td>0</td>\n",
       "      <td>0</td>\n",
       "      <td>0</td>\n",
       "      <td>0</td>\n",
       "    </tr>\n",
       "    <tr>\n",
       "      <th>2</th>\n",
       "      <td>0</td>\n",
       "      <td>0</td>\n",
       "      <td>0</td>\n",
       "      <td>0</td>\n",
       "      <td>0</td>\n",
       "      <td>0</td>\n",
       "      <td>0</td>\n",
       "      <td>0</td>\n",
       "      <td>0</td>\n",
       "      <td>0</td>\n",
       "      <td>...</td>\n",
       "      <td>0</td>\n",
       "      <td>0</td>\n",
       "      <td>0</td>\n",
       "      <td>0</td>\n",
       "      <td>0</td>\n",
       "      <td>0</td>\n",
       "      <td>0</td>\n",
       "      <td>0</td>\n",
       "      <td>0</td>\n",
       "      <td>0</td>\n",
       "    </tr>\n",
       "    <tr>\n",
       "      <th>3</th>\n",
       "      <td>0</td>\n",
       "      <td>0</td>\n",
       "      <td>0</td>\n",
       "      <td>0</td>\n",
       "      <td>0</td>\n",
       "      <td>0</td>\n",
       "      <td>0</td>\n",
       "      <td>0</td>\n",
       "      <td>0</td>\n",
       "      <td>0</td>\n",
       "      <td>...</td>\n",
       "      <td>0</td>\n",
       "      <td>0</td>\n",
       "      <td>0</td>\n",
       "      <td>0</td>\n",
       "      <td>0</td>\n",
       "      <td>0</td>\n",
       "      <td>0</td>\n",
       "      <td>0</td>\n",
       "      <td>0</td>\n",
       "      <td>0</td>\n",
       "    </tr>\n",
       "    <tr>\n",
       "      <th>4</th>\n",
       "      <td>0</td>\n",
       "      <td>0</td>\n",
       "      <td>0</td>\n",
       "      <td>0</td>\n",
       "      <td>0</td>\n",
       "      <td>0</td>\n",
       "      <td>0</td>\n",
       "      <td>0</td>\n",
       "      <td>0</td>\n",
       "      <td>0</td>\n",
       "      <td>...</td>\n",
       "      <td>0</td>\n",
       "      <td>0</td>\n",
       "      <td>0</td>\n",
       "      <td>0</td>\n",
       "      <td>0</td>\n",
       "      <td>0</td>\n",
       "      <td>0</td>\n",
       "      <td>0</td>\n",
       "      <td>0</td>\n",
       "      <td>0</td>\n",
       "    </tr>\n",
       "  </tbody>\n",
       "</table>\n",
       "<p>5 rows × 784 columns</p>\n",
       "</div>"
      ],
      "text/plain": [
       "   pixel0  pixel1  pixel2  pixel3  pixel4  pixel5  pixel6  pixel7  pixel8  \\\n",
       "0       0       0       0       0       0       0       0       0       0   \n",
       "1       0       0       0       0       0       0       0       0       0   \n",
       "2       0       0       0       0       0       0       0       0       0   \n",
       "3       0       0       0       0       0       0       0       0       0   \n",
       "4       0       0       0       0       0       0       0       0       0   \n",
       "\n",
       "   pixel9  ...  pixel774  pixel775  pixel776  pixel777  pixel778  pixel779  \\\n",
       "0       0  ...         0         0         0         0         0         0   \n",
       "1       0  ...         0         0         0         0         0         0   \n",
       "2       0  ...         0         0         0         0         0         0   \n",
       "3       0  ...         0         0         0         0         0         0   \n",
       "4       0  ...         0         0         0         0         0         0   \n",
       "\n",
       "   pixel780  pixel781  pixel782  pixel783  \n",
       "0         0         0         0         0  \n",
       "1         0         0         0         0  \n",
       "2         0         0         0         0  \n",
       "3         0         0         0         0  \n",
       "4         0         0         0         0  \n",
       "\n",
       "[5 rows x 784 columns]"
      ]
     },
     "execution_count": 43,
     "metadata": {},
     "output_type": "execute_result"
    }
   ],
   "source": [
    "test = pd.read_csv('test.csv')\n",
    "test.head()"
   ]
  },
  {
   "cell_type": "code",
   "execution_count": 44,
   "metadata": {},
   "outputs": [
    {
     "data": {
      "text/plain": [
       "(28000, 784)"
      ]
     },
     "execution_count": 44,
     "metadata": {},
     "output_type": "execute_result"
    }
   ],
   "source": [
    "test.shape"
   ]
  },
  {
   "cell_type": "code",
   "execution_count": 45,
   "metadata": {},
   "outputs": [],
   "source": [
    "text_X = test[test.columns]"
   ]
  },
  {
   "cell_type": "code",
   "execution_count": 46,
   "metadata": {},
   "outputs": [
    {
     "data": {
      "text/html": [
       "<div>\n",
       "<style scoped>\n",
       "    .dataframe tbody tr th:only-of-type {\n",
       "        vertical-align: middle;\n",
       "    }\n",
       "\n",
       "    .dataframe tbody tr th {\n",
       "        vertical-align: top;\n",
       "    }\n",
       "\n",
       "    .dataframe thead th {\n",
       "        text-align: right;\n",
       "    }\n",
       "</style>\n",
       "<table border=\"1\" class=\"dataframe\">\n",
       "  <thead>\n",
       "    <tr style=\"text-align: right;\">\n",
       "      <th></th>\n",
       "      <th>pixel0</th>\n",
       "      <th>pixel1</th>\n",
       "      <th>pixel2</th>\n",
       "      <th>pixel3</th>\n",
       "      <th>pixel4</th>\n",
       "      <th>pixel5</th>\n",
       "      <th>pixel6</th>\n",
       "      <th>pixel7</th>\n",
       "      <th>pixel8</th>\n",
       "      <th>pixel9</th>\n",
       "      <th>...</th>\n",
       "      <th>pixel774</th>\n",
       "      <th>pixel775</th>\n",
       "      <th>pixel776</th>\n",
       "      <th>pixel777</th>\n",
       "      <th>pixel778</th>\n",
       "      <th>pixel779</th>\n",
       "      <th>pixel780</th>\n",
       "      <th>pixel781</th>\n",
       "      <th>pixel782</th>\n",
       "      <th>pixel783</th>\n",
       "    </tr>\n",
       "  </thead>\n",
       "  <tbody>\n",
       "    <tr>\n",
       "      <th>0</th>\n",
       "      <td>0</td>\n",
       "      <td>0</td>\n",
       "      <td>0</td>\n",
       "      <td>0</td>\n",
       "      <td>0</td>\n",
       "      <td>0</td>\n",
       "      <td>0</td>\n",
       "      <td>0</td>\n",
       "      <td>0</td>\n",
       "      <td>0</td>\n",
       "      <td>...</td>\n",
       "      <td>0</td>\n",
       "      <td>0</td>\n",
       "      <td>0</td>\n",
       "      <td>0</td>\n",
       "      <td>0</td>\n",
       "      <td>0</td>\n",
       "      <td>0</td>\n",
       "      <td>0</td>\n",
       "      <td>0</td>\n",
       "      <td>0</td>\n",
       "    </tr>\n",
       "    <tr>\n",
       "      <th>1</th>\n",
       "      <td>0</td>\n",
       "      <td>0</td>\n",
       "      <td>0</td>\n",
       "      <td>0</td>\n",
       "      <td>0</td>\n",
       "      <td>0</td>\n",
       "      <td>0</td>\n",
       "      <td>0</td>\n",
       "      <td>0</td>\n",
       "      <td>0</td>\n",
       "      <td>...</td>\n",
       "      <td>0</td>\n",
       "      <td>0</td>\n",
       "      <td>0</td>\n",
       "      <td>0</td>\n",
       "      <td>0</td>\n",
       "      <td>0</td>\n",
       "      <td>0</td>\n",
       "      <td>0</td>\n",
       "      <td>0</td>\n",
       "      <td>0</td>\n",
       "    </tr>\n",
       "    <tr>\n",
       "      <th>2</th>\n",
       "      <td>0</td>\n",
       "      <td>0</td>\n",
       "      <td>0</td>\n",
       "      <td>0</td>\n",
       "      <td>0</td>\n",
       "      <td>0</td>\n",
       "      <td>0</td>\n",
       "      <td>0</td>\n",
       "      <td>0</td>\n",
       "      <td>0</td>\n",
       "      <td>...</td>\n",
       "      <td>0</td>\n",
       "      <td>0</td>\n",
       "      <td>0</td>\n",
       "      <td>0</td>\n",
       "      <td>0</td>\n",
       "      <td>0</td>\n",
       "      <td>0</td>\n",
       "      <td>0</td>\n",
       "      <td>0</td>\n",
       "      <td>0</td>\n",
       "    </tr>\n",
       "    <tr>\n",
       "      <th>3</th>\n",
       "      <td>0</td>\n",
       "      <td>0</td>\n",
       "      <td>0</td>\n",
       "      <td>0</td>\n",
       "      <td>0</td>\n",
       "      <td>0</td>\n",
       "      <td>0</td>\n",
       "      <td>0</td>\n",
       "      <td>0</td>\n",
       "      <td>0</td>\n",
       "      <td>...</td>\n",
       "      <td>0</td>\n",
       "      <td>0</td>\n",
       "      <td>0</td>\n",
       "      <td>0</td>\n",
       "      <td>0</td>\n",
       "      <td>0</td>\n",
       "      <td>0</td>\n",
       "      <td>0</td>\n",
       "      <td>0</td>\n",
       "      <td>0</td>\n",
       "    </tr>\n",
       "    <tr>\n",
       "      <th>4</th>\n",
       "      <td>0</td>\n",
       "      <td>0</td>\n",
       "      <td>0</td>\n",
       "      <td>0</td>\n",
       "      <td>0</td>\n",
       "      <td>0</td>\n",
       "      <td>0</td>\n",
       "      <td>0</td>\n",
       "      <td>0</td>\n",
       "      <td>0</td>\n",
       "      <td>...</td>\n",
       "      <td>0</td>\n",
       "      <td>0</td>\n",
       "      <td>0</td>\n",
       "      <td>0</td>\n",
       "      <td>0</td>\n",
       "      <td>0</td>\n",
       "      <td>0</td>\n",
       "      <td>0</td>\n",
       "      <td>0</td>\n",
       "      <td>0</td>\n",
       "    </tr>\n",
       "  </tbody>\n",
       "</table>\n",
       "<p>5 rows × 784 columns</p>\n",
       "</div>"
      ],
      "text/plain": [
       "   pixel0  pixel1  pixel2  pixel3  pixel4  pixel5  pixel6  pixel7  pixel8  \\\n",
       "0       0       0       0       0       0       0       0       0       0   \n",
       "1       0       0       0       0       0       0       0       0       0   \n",
       "2       0       0       0       0       0       0       0       0       0   \n",
       "3       0       0       0       0       0       0       0       0       0   \n",
       "4       0       0       0       0       0       0       0       0       0   \n",
       "\n",
       "   pixel9  ...  pixel774  pixel775  pixel776  pixel777  pixel778  pixel779  \\\n",
       "0       0  ...         0         0         0         0         0         0   \n",
       "1       0  ...         0         0         0         0         0         0   \n",
       "2       0  ...         0         0         0         0         0         0   \n",
       "3       0  ...         0         0         0         0         0         0   \n",
       "4       0  ...         0         0         0         0         0         0   \n",
       "\n",
       "   pixel780  pixel781  pixel782  pixel783  \n",
       "0         0         0         0         0  \n",
       "1         0         0         0         0  \n",
       "2         0         0         0         0  \n",
       "3         0         0         0         0  \n",
       "4         0         0         0         0  \n",
       "\n",
       "[5 rows x 784 columns]"
      ]
     },
     "execution_count": 46,
     "metadata": {},
     "output_type": "execute_result"
    }
   ],
   "source": [
    "text_X.head()"
   ]
  },
  {
   "cell_type": "code",
   "execution_count": 47,
   "metadata": {},
   "outputs": [
    {
     "data": {
      "text/plain": [
       "(28000, 784)"
      ]
     },
     "execution_count": 47,
     "metadata": {},
     "output_type": "execute_result"
    }
   ],
   "source": [
    "text_X.shape"
   ]
  },
  {
   "cell_type": "code",
   "execution_count": 48,
   "metadata": {},
   "outputs": [],
   "source": [
    "test_array = np.array(text_X)"
   ]
  },
  {
   "cell_type": "code",
   "execution_count": 49,
   "metadata": {},
   "outputs": [
    {
     "data": {
      "text/plain": [
       "(28000, 784)"
      ]
     },
     "execution_count": 49,
     "metadata": {},
     "output_type": "execute_result"
    }
   ],
   "source": [
    "test_array.shape"
   ]
  },
  {
   "cell_type": "code",
   "execution_count": 50,
   "metadata": {},
   "outputs": [
    {
     "data": {
      "text/plain": [
       "array([[0, 0, 0, ..., 0, 0, 0],\n",
       "       [0, 0, 0, ..., 0, 0, 0],\n",
       "       [0, 0, 0, ..., 0, 0, 0],\n",
       "       ...,\n",
       "       [0, 0, 0, ..., 0, 0, 0],\n",
       "       [0, 0, 0, ..., 0, 0, 0],\n",
       "       [0, 0, 0, ..., 0, 0, 0]])"
      ]
     },
     "execution_count": 50,
     "metadata": {},
     "output_type": "execute_result"
    }
   ],
   "source": [
    "test_array"
   ]
  },
  {
   "cell_type": "code",
   "execution_count": 51,
   "metadata": {},
   "outputs": [
    {
     "data": {
      "text/plain": [
       "array([536, 575, 186, 543, 436, 356, 127, 405, 289, 125])"
      ]
     },
     "execution_count": 51,
     "metadata": {},
     "output_type": "execute_result"
    }
   ],
   "source": [
    "test_array[:10].argmax(axis=1)"
   ]
  },
  {
   "cell_type": "code",
   "execution_count": 52,
   "metadata": {},
   "outputs": [],
   "source": [
    "test_array= np.array(test_array)"
   ]
  },
  {
   "cell_type": "code",
   "execution_count": 53,
   "metadata": {},
   "outputs": [
    {
     "data": {
      "text/plain": [
       "(28000, 784)"
      ]
     },
     "execution_count": 53,
     "metadata": {},
     "output_type": "execute_result"
    }
   ],
   "source": [
    "test_array.shape"
   ]
  },
  {
   "cell_type": "code",
   "execution_count": 54,
   "metadata": {},
   "outputs": [],
   "source": [
    "test_array = test_array.reshape((test_array.shape[0], 28, 28, 1))#.astype('float32')"
   ]
  },
  {
   "cell_type": "code",
   "execution_count": 55,
   "metadata": {},
   "outputs": [
    {
     "data": {
      "text/plain": [
       "(28000, 28, 28, 1)"
      ]
     },
     "execution_count": 55,
     "metadata": {},
     "output_type": "execute_result"
    }
   ],
   "source": [
    "test_array.shape"
   ]
  },
  {
   "cell_type": "code",
   "execution_count": 56,
   "metadata": {
    "scrolled": true
   },
   "outputs": [
    {
     "data": {
      "text/plain": [
       "array([[[0],\n",
       "        [0],\n",
       "        [0],\n",
       "        ...,\n",
       "        [0],\n",
       "        [0],\n",
       "        [0]],\n",
       "\n",
       "       [[0],\n",
       "        [0],\n",
       "        [0],\n",
       "        ...,\n",
       "        [0],\n",
       "        [0],\n",
       "        [0]],\n",
       "\n",
       "       [[0],\n",
       "        [0],\n",
       "        [0],\n",
       "        ...,\n",
       "        [0],\n",
       "        [0],\n",
       "        [0]],\n",
       "\n",
       "       ...,\n",
       "\n",
       "       [[0],\n",
       "        [0],\n",
       "        [0],\n",
       "        ...,\n",
       "        [0],\n",
       "        [0],\n",
       "        [0]],\n",
       "\n",
       "       [[0],\n",
       "        [0],\n",
       "        [0],\n",
       "        ...,\n",
       "        [0],\n",
       "        [0],\n",
       "        [0]],\n",
       "\n",
       "       [[0],\n",
       "        [0],\n",
       "        [0],\n",
       "        ...,\n",
       "        [0],\n",
       "        [0],\n",
       "        [0]]])"
      ]
     },
     "execution_count": 56,
     "metadata": {},
     "output_type": "execute_result"
    }
   ],
   "source": [
    "test_array.argmax(axis=1)"
   ]
  },
  {
   "cell_type": "markdown",
   "metadata": {},
   "source": [
    "## Predicts"
   ]
  },
  {
   "cell_type": "code",
   "execution_count": 58,
   "metadata": {},
   "outputs": [],
   "source": [
    "# CNN Model\n",
    "cnn_predicts = cnn_model.predict(test_array).argmax(axis=1)"
   ]
  },
  {
   "cell_type": "code",
   "execution_count": 59,
   "metadata": {},
   "outputs": [
    {
     "data": {
      "text/plain": [
       "array([2, 7, 9, 9, 3, 7, 0, 3, 0, 3])"
      ]
     },
     "execution_count": 59,
     "metadata": {},
     "output_type": "execute_result"
    }
   ],
   "source": [
    "cnn_predicts[:10]"
   ]
  },
  {
   "cell_type": "code",
   "execution_count": 60,
   "metadata": {},
   "outputs": [
    {
     "data": {
      "text/plain": [
       "0"
      ]
     },
     "execution_count": 60,
     "metadata": {},
     "output_type": "execute_result"
    }
   ],
   "source": [
    "cnn_predicts.min()"
   ]
  },
  {
   "cell_type": "code",
   "execution_count": 61,
   "metadata": {},
   "outputs": [
    {
     "data": {
      "text/plain": [
       "9"
      ]
     },
     "execution_count": 61,
     "metadata": {},
     "output_type": "execute_result"
    }
   ],
   "source": [
    "cnn_predicts.max()"
   ]
  },
  {
   "cell_type": "code",
   "execution_count": 62,
   "metadata": {},
   "outputs": [
    {
     "data": {
      "text/plain": [
       "(28000,)"
      ]
     },
     "execution_count": 62,
     "metadata": {},
     "output_type": "execute_result"
    }
   ],
   "source": [
    "cnn_predicts.shape"
   ]
  },
  {
   "cell_type": "code",
   "execution_count": 63,
   "metadata": {},
   "outputs": [],
   "source": [
    "submission = pd.DataFrame(test.index+1)"
   ]
  },
  {
   "cell_type": "code",
   "execution_count": 64,
   "metadata": {},
   "outputs": [],
   "source": [
    "submission['Label'] = cnn_predicts"
   ]
  },
  {
   "cell_type": "code",
   "execution_count": 65,
   "metadata": {},
   "outputs": [
    {
     "data": {
      "text/html": [
       "<div>\n",
       "<style scoped>\n",
       "    .dataframe tbody tr th:only-of-type {\n",
       "        vertical-align: middle;\n",
       "    }\n",
       "\n",
       "    .dataframe tbody tr th {\n",
       "        vertical-align: top;\n",
       "    }\n",
       "\n",
       "    .dataframe thead th {\n",
       "        text-align: right;\n",
       "    }\n",
       "</style>\n",
       "<table border=\"1\" class=\"dataframe\">\n",
       "  <thead>\n",
       "    <tr style=\"text-align: right;\">\n",
       "      <th></th>\n",
       "      <th>0</th>\n",
       "      <th>Label</th>\n",
       "    </tr>\n",
       "  </thead>\n",
       "  <tbody>\n",
       "    <tr>\n",
       "      <th>27995</th>\n",
       "      <td>27996</td>\n",
       "      <td>9</td>\n",
       "    </tr>\n",
       "    <tr>\n",
       "      <th>27996</th>\n",
       "      <td>27997</td>\n",
       "      <td>7</td>\n",
       "    </tr>\n",
       "    <tr>\n",
       "      <th>27997</th>\n",
       "      <td>27998</td>\n",
       "      <td>3</td>\n",
       "    </tr>\n",
       "    <tr>\n",
       "      <th>27998</th>\n",
       "      <td>27999</td>\n",
       "      <td>9</td>\n",
       "    </tr>\n",
       "    <tr>\n",
       "      <th>27999</th>\n",
       "      <td>28000</td>\n",
       "      <td>2</td>\n",
       "    </tr>\n",
       "  </tbody>\n",
       "</table>\n",
       "</div>"
      ],
      "text/plain": [
       "           0  Label\n",
       "27995  27996      9\n",
       "27996  27997      7\n",
       "27997  27998      3\n",
       "27998  27999      9\n",
       "27999  28000      2"
      ]
     },
     "execution_count": 65,
     "metadata": {},
     "output_type": "execute_result"
    }
   ],
   "source": [
    "submission.tail()"
   ]
  },
  {
   "cell_type": "code",
   "execution_count": 66,
   "metadata": {},
   "outputs": [],
   "source": [
    "submission.rename(columns={0: 'ImageId'}, inplace=True)"
   ]
  },
  {
   "cell_type": "code",
   "execution_count": 67,
   "metadata": {},
   "outputs": [
    {
     "data": {
      "text/html": [
       "<div>\n",
       "<style scoped>\n",
       "    .dataframe tbody tr th:only-of-type {\n",
       "        vertical-align: middle;\n",
       "    }\n",
       "\n",
       "    .dataframe tbody tr th {\n",
       "        vertical-align: top;\n",
       "    }\n",
       "\n",
       "    .dataframe thead th {\n",
       "        text-align: right;\n",
       "    }\n",
       "</style>\n",
       "<table border=\"1\" class=\"dataframe\">\n",
       "  <thead>\n",
       "    <tr style=\"text-align: right;\">\n",
       "      <th></th>\n",
       "      <th>ImageId</th>\n",
       "      <th>Label</th>\n",
       "    </tr>\n",
       "  </thead>\n",
       "  <tbody>\n",
       "    <tr>\n",
       "      <th>0</th>\n",
       "      <td>1</td>\n",
       "      <td>2</td>\n",
       "    </tr>\n",
       "    <tr>\n",
       "      <th>1</th>\n",
       "      <td>2</td>\n",
       "      <td>7</td>\n",
       "    </tr>\n",
       "    <tr>\n",
       "      <th>2</th>\n",
       "      <td>3</td>\n",
       "      <td>9</td>\n",
       "    </tr>\n",
       "    <tr>\n",
       "      <th>3</th>\n",
       "      <td>4</td>\n",
       "      <td>9</td>\n",
       "    </tr>\n",
       "    <tr>\n",
       "      <th>4</th>\n",
       "      <td>5</td>\n",
       "      <td>3</td>\n",
       "    </tr>\n",
       "  </tbody>\n",
       "</table>\n",
       "</div>"
      ],
      "text/plain": [
       "   ImageId  Label\n",
       "0        1      2\n",
       "1        2      7\n",
       "2        3      9\n",
       "3        4      9\n",
       "4        5      3"
      ]
     },
     "execution_count": 67,
     "metadata": {},
     "output_type": "execute_result"
    }
   ],
   "source": [
    "submission.head()"
   ]
  },
  {
   "cell_type": "markdown",
   "metadata": {},
   "source": [
    "# Submission"
   ]
  },
  {
   "cell_type": "code",
   "execution_count": 68,
   "metadata": {},
   "outputs": [],
   "source": [
    "# First Submission \n",
    "submission.to_csv('CNN_model.csv', index=False)"
   ]
  },
  {
   "cell_type": "code",
   "execution_count": 69,
   "metadata": {},
   "outputs": [
    {
     "data": {
      "text/plain": [
       "(28000, 2)"
      ]
     },
     "execution_count": 69,
     "metadata": {},
     "output_type": "execute_result"
    }
   ],
   "source": [
    "submission.shape"
   ]
  },
  {
   "cell_type": "code",
   "execution_count": 70,
   "metadata": {},
   "outputs": [
    {
     "data": {
      "text/html": [
       "<div>\n",
       "<style scoped>\n",
       "    .dataframe tbody tr th:only-of-type {\n",
       "        vertical-align: middle;\n",
       "    }\n",
       "\n",
       "    .dataframe tbody tr th {\n",
       "        vertical-align: top;\n",
       "    }\n",
       "\n",
       "    .dataframe thead th {\n",
       "        text-align: right;\n",
       "    }\n",
       "</style>\n",
       "<table border=\"1\" class=\"dataframe\">\n",
       "  <thead>\n",
       "    <tr style=\"text-align: right;\">\n",
       "      <th></th>\n",
       "      <th>ImageId</th>\n",
       "      <th>Label</th>\n",
       "    </tr>\n",
       "  </thead>\n",
       "  <tbody>\n",
       "    <tr>\n",
       "      <th>0</th>\n",
       "      <td>1</td>\n",
       "      <td>2</td>\n",
       "    </tr>\n",
       "    <tr>\n",
       "      <th>1</th>\n",
       "      <td>2</td>\n",
       "      <td>7</td>\n",
       "    </tr>\n",
       "    <tr>\n",
       "      <th>2</th>\n",
       "      <td>3</td>\n",
       "      <td>9</td>\n",
       "    </tr>\n",
       "    <tr>\n",
       "      <th>3</th>\n",
       "      <td>4</td>\n",
       "      <td>9</td>\n",
       "    </tr>\n",
       "    <tr>\n",
       "      <th>4</th>\n",
       "      <td>5</td>\n",
       "      <td>3</td>\n",
       "    </tr>\n",
       "  </tbody>\n",
       "</table>\n",
       "</div>"
      ],
      "text/plain": [
       "   ImageId  Label\n",
       "0        1      2\n",
       "1        2      7\n",
       "2        3      9\n",
       "3        4      9\n",
       "4        5      3"
      ]
     },
     "execution_count": 70,
     "metadata": {},
     "output_type": "execute_result"
    }
   ],
   "source": [
    "submission.head()"
   ]
  },
  {
   "cell_type": "markdown",
   "metadata": {},
   "source": [
    "# Done!"
   ]
  }
 ],
 "metadata": {
  "kernelspec": {
   "display_name": "Python 3",
   "language": "python",
   "name": "python3"
  },
  "language_info": {
   "codemirror_mode": {
    "name": "ipython",
    "version": 3
   },
   "file_extension": ".py",
   "mimetype": "text/x-python",
   "name": "python",
   "nbconvert_exporter": "python",
   "pygments_lexer": "ipython3",
   "version": "3.7.1"
  }
 },
 "nbformat": 4,
 "nbformat_minor": 2
}
